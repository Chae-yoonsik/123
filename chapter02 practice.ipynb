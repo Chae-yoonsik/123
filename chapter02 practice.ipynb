{
  "cells": [
    {
      "cell_type": "markdown",
      "metadata": {
        "id": "view-in-github",
        "colab_type": "text"
      },
      "source": [
        "<a href=\"https://colab.research.google.com/github/Chae-yoonsik/123/blob/main/chapter02%20practice.ipynb\" target=\"_parent\"><img src=\"https://colab.research.google.com/assets/colab-badge.svg\" alt=\"Open In Colab\"/></a>"
      ]
    },
    {
      "cell_type": "markdown",
      "metadata": {
        "id": "BhDZcTVooRBJ"
      },
      "source": [
        "This is a companion notebook for the book [Deep Learning with Python, Second Edition](https://www.manning.com/books/deep-learning-with-python-second-edition?a_aid=keras&a_bid=76564dff). For readability, it only contains runnable code blocks and section titles, and omits everything else in the book: text paragraphs, figures, and pseudocode.\n",
        "\n",
        "**If you want to be able to follow what's going on, I recommend reading the notebook side by side with your copy of the book.**\n",
        "\n",
        "This notebook was generated for TensorFlow 2.6."
      ]
    },
    {
      "cell_type": "markdown",
      "metadata": {
        "id": "H7LSBERVoRBO"
      },
      "source": [
        "# The mathematical building blocks of neural networks"
      ]
    },
    {
      "cell_type": "markdown",
      "metadata": {
        "id": "MUH435IUoRBP"
      },
      "source": [
        "## A first look at a neural network"
      ]
    },
    {
      "cell_type": "markdown",
      "source": [
        "# _The tasks are at the bottom._ \n",
        "\n",
        "# _The tasks are at the bottom._ "
      ],
      "metadata": {
        "id": "NBbZp_8S89km"
      }
    },
    {
      "cell_type": "code",
      "source": [],
      "metadata": {
        "id": "8akJN6XV9LIO"
      },
      "execution_count": null,
      "outputs": []
    },
    {
      "cell_type": "markdown",
      "metadata": {
        "id": "WVIhvDhSoRBQ"
      },
      "source": [
        "**Loading the MNIST dataset in Keras**"
      ]
    },
    {
      "cell_type": "code",
      "execution_count": null,
      "metadata": {
        "id": "Sh5j4Mq8oRBR"
      },
      "outputs": [],
      "source": [
        "from tensorflow.keras.datasets import mnist\n",
        "(train_images, train_labels), (test_images, test_labels) = mnist.load_data()"
      ]
    },
    {
      "cell_type": "code",
      "execution_count": null,
      "metadata": {
        "id": "zHz8_hktoRBU"
      },
      "outputs": [],
      "source": [
        "train_images.shape"
      ]
    },
    {
      "cell_type": "code",
      "execution_count": null,
      "metadata": {
        "id": "SmxjNgIQoRBV"
      },
      "outputs": [],
      "source": [
        "len(train_labels)"
      ]
    },
    {
      "cell_type": "code",
      "execution_count": null,
      "metadata": {
        "id": "-dscqLJ_oRBW"
      },
      "outputs": [],
      "source": [
        "train_labels"
      ]
    },
    {
      "cell_type": "code",
      "execution_count": null,
      "metadata": {
        "id": "m25NGj_IoRBX"
      },
      "outputs": [],
      "source": [
        "test_images.shape"
      ]
    },
    {
      "cell_type": "code",
      "execution_count": null,
      "metadata": {
        "id": "mz0t_DLHoRBZ"
      },
      "outputs": [],
      "source": [
        "len(test_labels)"
      ]
    },
    {
      "cell_type": "code",
      "execution_count": null,
      "metadata": {
        "id": "pP4J1Lm6oRBa"
      },
      "outputs": [],
      "source": [
        "test_labels"
      ]
    },
    {
      "cell_type": "markdown",
      "metadata": {
        "id": "ZeulCG7moRBb"
      },
      "source": [
        "**The network architecture**"
      ]
    },
    {
      "cell_type": "code",
      "execution_count": null,
      "metadata": {
        "id": "hYSwQb5aoRBc"
      },
      "outputs": [],
      "source": [
        "from tensorflow import keras\n",
        "from tensorflow.keras import layers\n",
        "model = keras.Sequential([\n",
        "    layers.Dense(512, activation=\"relu\"),\n",
        "    layers.Dense(10, activation=\"softmax\")\n",
        "])"
      ]
    },
    {
      "cell_type": "markdown",
      "metadata": {
        "id": "MqWydLbeoRBd"
      },
      "source": [
        "**The compilation step**"
      ]
    },
    {
      "cell_type": "code",
      "execution_count": null,
      "metadata": {
        "id": "U0bWjzyToRBi"
      },
      "outputs": [],
      "source": [
        "model.compile(optimizer=\"rmsprop\",\n",
        "              loss=\"sparse_categorical_crossentropy\",\n",
        "              metrics=[\"accuracy\"])"
      ]
    },
    {
      "cell_type": "markdown",
      "metadata": {
        "id": "GUzPxqkKoRBj"
      },
      "source": [
        "**Preparing the image data**"
      ]
    },
    {
      "cell_type": "code",
      "execution_count": null,
      "metadata": {
        "id": "oSZAQgWLoRBk"
      },
      "outputs": [],
      "source": [
        "train_images = train_images.reshape((60000, 28 * 28))\n",
        "train_images = train_images.astype(\"float32\") / 255\n",
        "test_images = test_images.reshape((10000, 28 * 28))\n",
        "test_images = test_images.astype(\"float32\") / 255"
      ]
    },
    {
      "cell_type": "markdown",
      "metadata": {
        "id": "s7wxQHtXoRBl"
      },
      "source": [
        "**\"Fitting\" the model**"
      ]
    },
    {
      "cell_type": "code",
      "execution_count": null,
      "metadata": {
        "id": "rxJK2z2GoRBm"
      },
      "outputs": [],
      "source": [
        "model.fit(train_images, train_labels, epochs=5, batch_size=128)"
      ]
    },
    {
      "cell_type": "markdown",
      "metadata": {
        "id": "VP9a8JKWoRBn"
      },
      "source": [
        "**Using the model to make predictions**"
      ]
    },
    {
      "cell_type": "code",
      "execution_count": null,
      "metadata": {
        "id": "VjjFFmV4oRBn"
      },
      "outputs": [],
      "source": [
        "test_digits = test_images[0:10]\n",
        "predictions = model.predict(test_digits)\n",
        "predictions[0]"
      ]
    },
    {
      "cell_type": "code",
      "execution_count": null,
      "metadata": {
        "id": "_NYfccJIoRBo"
      },
      "outputs": [],
      "source": [
        "predictions[0].argmax()"
      ]
    },
    {
      "cell_type": "code",
      "execution_count": null,
      "metadata": {
        "id": "38cBsB8SoRBp"
      },
      "outputs": [],
      "source": [
        "predictions[0][7]"
      ]
    },
    {
      "cell_type": "code",
      "execution_count": null,
      "metadata": {
        "id": "mpaLInvloRBq"
      },
      "outputs": [],
      "source": [
        "test_labels[0]"
      ]
    },
    {
      "cell_type": "markdown",
      "metadata": {
        "id": "bCUuIEHtoRBr"
      },
      "source": [
        "**Evaluating the model on new data**"
      ]
    },
    {
      "cell_type": "code",
      "execution_count": null,
      "metadata": {
        "id": "D_XwxMXBoRBr"
      },
      "outputs": [],
      "source": [
        "test_loss, test_acc = model.evaluate(test_images, test_labels)\n",
        "print(f\"test_acc: {test_acc}\")"
      ]
    },
    {
      "cell_type": "markdown",
      "metadata": {
        "id": "3yuY9wFhoRBs"
      },
      "source": [
        "## Data representations for neural networks"
      ]
    },
    {
      "cell_type": "markdown",
      "metadata": {
        "id": "om9ZRm3aoRBt"
      },
      "source": [
        "### Scalars (rank-0 tensors)"
      ]
    },
    {
      "cell_type": "code",
      "execution_count": null,
      "metadata": {
        "id": "dQ_JNr6_oRBu"
      },
      "outputs": [],
      "source": [
        "import numpy as np\n",
        "x = np.array(12)\n",
        "x"
      ]
    },
    {
      "cell_type": "code",
      "execution_count": null,
      "metadata": {
        "id": "vO4D3iRjoRBv"
      },
      "outputs": [],
      "source": [
        "x.ndim"
      ]
    },
    {
      "cell_type": "markdown",
      "metadata": {
        "id": "7FPOWAesoRBv"
      },
      "source": [
        "### Vectors (rank-1 tensors)"
      ]
    },
    {
      "cell_type": "code",
      "execution_count": null,
      "metadata": {
        "id": "FDB4HyApoRBw"
      },
      "outputs": [],
      "source": [
        "x = np.array([12, 3, 6, 14, 7])\n",
        "x"
      ]
    },
    {
      "cell_type": "code",
      "execution_count": null,
      "metadata": {
        "id": "ZyTHZiqQoRBx"
      },
      "outputs": [],
      "source": [
        "x.ndim"
      ]
    },
    {
      "cell_type": "markdown",
      "metadata": {
        "id": "p4bb2jNkoRBx"
      },
      "source": [
        "### Matrices (rank-2 tensors)"
      ]
    },
    {
      "cell_type": "code",
      "execution_count": null,
      "metadata": {
        "id": "D9dPQaEUoRBy"
      },
      "outputs": [],
      "source": [
        "x = np.array([[5, 78, 2, 34, 0],\n",
        "              [6, 79, 3, 35, 1],\n",
        "              [7, 80, 4, 36, 2]])\n",
        "x.ndim"
      ]
    },
    {
      "cell_type": "markdown",
      "metadata": {
        "id": "QeLpP7MToRBz"
      },
      "source": [
        "### Rank-3 and higher-rank tensors"
      ]
    },
    {
      "cell_type": "code",
      "execution_count": null,
      "metadata": {
        "id": "IOlTPXEhoRBz"
      },
      "outputs": [],
      "source": [
        "x = np.array([[[5, 78, 2, 34, 0],\n",
        "               [6, 79, 3, 35, 1],\n",
        "               [7, 80, 4, 36, 2]],\n",
        "              [[5, 78, 2, 34, 0],\n",
        "               [6, 79, 3, 35, 1],\n",
        "               [7, 80, 4, 36, 2]],\n",
        "              [[5, 78, 2, 34, 0],\n",
        "               [6, 79, 3, 35, 1],\n",
        "               [7, 80, 4, 36, 2]]])\n",
        "x.ndim"
      ]
    },
    {
      "cell_type": "markdown",
      "metadata": {
        "id": "D3flyL2hoRB2"
      },
      "source": [
        "### Key attributes"
      ]
    },
    {
      "cell_type": "code",
      "execution_count": null,
      "metadata": {
        "id": "95fBRiCloRB3"
      },
      "outputs": [],
      "source": [
        "from tensorflow.keras.datasets import mnist\n",
        "(train_images, train_labels), (test_images, test_labels) = mnist.load_data()"
      ]
    },
    {
      "cell_type": "code",
      "execution_count": null,
      "metadata": {
        "id": "4XfAth1VoRB4"
      },
      "outputs": [],
      "source": [
        "train_images.ndim"
      ]
    },
    {
      "cell_type": "code",
      "execution_count": null,
      "metadata": {
        "id": "gweJUWuCoRB5"
      },
      "outputs": [],
      "source": [
        "train_images.shape"
      ]
    },
    {
      "cell_type": "code",
      "execution_count": null,
      "metadata": {
        "id": "-phOlEufoRB5"
      },
      "outputs": [],
      "source": [
        "train_images.dtype"
      ]
    },
    {
      "cell_type": "markdown",
      "metadata": {
        "id": "Ao6tXPnUoRB6"
      },
      "source": [
        "**Displaying the fourth digit**"
      ]
    },
    {
      "cell_type": "code",
      "execution_count": null,
      "metadata": {
        "id": "XGVBqtl9oRB6"
      },
      "outputs": [],
      "source": [
        "import matplotlib.pyplot as plt\n",
        "digit = train_images[4]\n",
        "plt.imshow(digit, cmap=plt.cm.binary)\n",
        "plt.show()"
      ]
    },
    {
      "cell_type": "code",
      "execution_count": null,
      "metadata": {
        "id": "DNgKWdpUoRB7"
      },
      "outputs": [],
      "source": [
        "train_labels[4]"
      ]
    },
    {
      "cell_type": "markdown",
      "metadata": {
        "id": "ElNV6dFcoRB8"
      },
      "source": [
        "### Manipulating tensors in NumPy"
      ]
    },
    {
      "cell_type": "code",
      "execution_count": null,
      "metadata": {
        "id": "vqX38UPToRB8"
      },
      "outputs": [],
      "source": [
        "my_slice = train_images[10:100]\n",
        "my_slice.shape"
      ]
    },
    {
      "cell_type": "code",
      "execution_count": null,
      "metadata": {
        "id": "qsq-edmXoRB9"
      },
      "outputs": [],
      "source": [
        "my_slice = train_images[10:100, :, :]\n",
        "my_slice.shape"
      ]
    },
    {
      "cell_type": "code",
      "execution_count": null,
      "metadata": {
        "id": "L-Zw5y1CoRB9"
      },
      "outputs": [],
      "source": [
        "my_slice = train_images[10:100, 0:28, 0:28]\n",
        "my_slice.shape"
      ]
    },
    {
      "cell_type": "code",
      "execution_count": null,
      "metadata": {
        "id": "XWfJz2T1oRB-"
      },
      "outputs": [],
      "source": [
        "my_slice = train_images[:, 14:, 14:]"
      ]
    },
    {
      "cell_type": "code",
      "execution_count": null,
      "metadata": {
        "id": "b0HS9yzSoRB_"
      },
      "outputs": [],
      "source": [
        "my_slice = train_images[:, 7:-7, 7:-7]"
      ]
    },
    {
      "cell_type": "markdown",
      "metadata": {
        "id": "tUxFGykhoRB_"
      },
      "source": [
        "### The notion of data batches"
      ]
    },
    {
      "cell_type": "code",
      "execution_count": null,
      "metadata": {
        "id": "SVcKd735oRCA"
      },
      "outputs": [],
      "source": [
        "batch = train_images[:128]"
      ]
    },
    {
      "cell_type": "code",
      "execution_count": null,
      "metadata": {
        "id": "h5rJ6nhLoRCA"
      },
      "outputs": [],
      "source": [
        "batch = train_images[128:256]"
      ]
    },
    {
      "cell_type": "code",
      "execution_count": null,
      "metadata": {
        "id": "77zNcb3OoRCB"
      },
      "outputs": [],
      "source": [
        "n = 3\n",
        "batch = train_images[128 * n:128 * (n + 1)]"
      ]
    },
    {
      "cell_type": "markdown",
      "metadata": {
        "id": "NswDZX4aoRCC"
      },
      "source": [
        "### Real-world examples of data tensors"
      ]
    },
    {
      "cell_type": "markdown",
      "metadata": {
        "id": "y32RvudjoRCC"
      },
      "source": [
        "### Vector data"
      ]
    },
    {
      "cell_type": "markdown",
      "metadata": {
        "id": "A5L3XmOXoRCD"
      },
      "source": [
        "### Timeseries data or sequence data"
      ]
    },
    {
      "cell_type": "markdown",
      "metadata": {
        "id": "1wudEPoqoRCD"
      },
      "source": [
        "### Image data"
      ]
    },
    {
      "cell_type": "markdown",
      "metadata": {
        "id": "fhjosG8uoRCE"
      },
      "source": [
        "### Video data"
      ]
    },
    {
      "cell_type": "markdown",
      "metadata": {
        "id": "fHfMHHpFoRCE"
      },
      "source": [
        "## The gears of neural networks: tensor operations"
      ]
    },
    {
      "cell_type": "markdown",
      "metadata": {
        "id": "HK69BZemoRCF"
      },
      "source": [
        "### Element-wise operations"
      ]
    },
    {
      "cell_type": "code",
      "execution_count": null,
      "metadata": {
        "id": "nmcynfKuoRCF"
      },
      "outputs": [],
      "source": [
        "def naive_relu(x):\n",
        "    assert len(x.shape) == 2\n",
        "    x = x.copy()\n",
        "    for i in range(x.shape[0]):\n",
        "        for j in range(x.shape[1]):\n",
        "            x[i, j] = max(x[i, j], 0)\n",
        "    return x"
      ]
    },
    {
      "cell_type": "code",
      "execution_count": null,
      "metadata": {
        "id": "RgY8ogVMoRCG"
      },
      "outputs": [],
      "source": [
        "def naive_add(x, y):\n",
        "    assert len(x.shape) == 2\n",
        "    assert x.shape == y.shape\n",
        "    x = x.copy()\n",
        "    for i in range(x.shape[0]):\n",
        "        for j in range(x.shape[1]):\n",
        "            x[i, j] += y[i, j]\n",
        "    return x"
      ]
    },
    {
      "cell_type": "code",
      "execution_count": null,
      "metadata": {
        "id": "kkhL_FFqoRCH"
      },
      "outputs": [],
      "source": [
        "import time\n",
        "\n",
        "x = np.random.random((20, 100))\n",
        "y = np.random.random((20, 100))\n",
        "\n",
        "t0 = time.time()\n",
        "for _ in range(1000):\n",
        "    z = x + y\n",
        "    z = np.maximum(z, 0.)\n",
        "print(\"Took: {0:.2f} s\".format(time.time() - t0))"
      ]
    },
    {
      "cell_type": "code",
      "execution_count": null,
      "metadata": {
        "id": "g9BGvgx_oRCH"
      },
      "outputs": [],
      "source": [
        "t0 = time.time()\n",
        "for _ in range(1000):\n",
        "    z = naive_add(x, y)\n",
        "    z = naive_relu(z)\n",
        "print(\"Took: {0:.2f} s\".format(time.time() - t0))"
      ]
    },
    {
      "cell_type": "markdown",
      "metadata": {
        "id": "VMJmb4IloRCK"
      },
      "source": [
        "### Broadcasting"
      ]
    },
    {
      "cell_type": "code",
      "execution_count": null,
      "metadata": {
        "id": "SQ7gzgKPoRCL"
      },
      "outputs": [],
      "source": [
        "import numpy as np\n",
        "X = np.random.random((32, 10))\n",
        "y = np.random.random((10,))"
      ]
    },
    {
      "cell_type": "code",
      "execution_count": null,
      "metadata": {
        "id": "xqlgasoRoRCM"
      },
      "outputs": [],
      "source": [
        "y = np.expand_dims(y, axis=0)"
      ]
    },
    {
      "cell_type": "code",
      "execution_count": null,
      "metadata": {
        "id": "4dTXxPjXoRCM"
      },
      "outputs": [],
      "source": [
        "Y = np.concatenate([y] * 32, axis=0)"
      ]
    },
    {
      "cell_type": "code",
      "execution_count": null,
      "metadata": {
        "id": "YpadTEe6oRCN"
      },
      "outputs": [],
      "source": [
        "def naive_add_matrix_and_vector(x, y):\n",
        "    assert len(x.shape) == 2\n",
        "    assert len(y.shape) == 1\n",
        "    assert x.shape[1] == y.shape[0]\n",
        "    x = x.copy()\n",
        "    for i in range(x.shape[0]):\n",
        "        for j in range(x.shape[1]):\n",
        "            x[i, j] += y[j]\n",
        "    return x"
      ]
    },
    {
      "cell_type": "code",
      "execution_count": null,
      "metadata": {
        "id": "cxltfGGVoRCN"
      },
      "outputs": [],
      "source": [
        "import numpy as np\n",
        "x = np.random.random((64, 3, 32, 10))\n",
        "y = np.random.random((32, 10))\n",
        "z = np.maximum(x, y)"
      ]
    },
    {
      "cell_type": "markdown",
      "metadata": {
        "id": "qTm1Mh7XoRCO"
      },
      "source": [
        "### Tensor product"
      ]
    },
    {
      "cell_type": "code",
      "execution_count": null,
      "metadata": {
        "id": "YTnuknN-oRCP"
      },
      "outputs": [],
      "source": [
        "x = np.random.random((32,))\n",
        "y = np.random.random((32,))\n",
        "z = np.dot(x, y)"
      ]
    },
    {
      "cell_type": "code",
      "execution_count": null,
      "metadata": {
        "id": "BclIfuJ4oRCP"
      },
      "outputs": [],
      "source": [
        "def naive_vector_dot(x, y):\n",
        "    assert len(x.shape) == 1\n",
        "    assert len(y.shape) == 1\n",
        "    assert x.shape[0] == y.shape[0]\n",
        "    z = 0.\n",
        "    for i in range(x.shape[0]):\n",
        "        z += x[i] * y[i]\n",
        "    return z"
      ]
    },
    {
      "cell_type": "code",
      "execution_count": null,
      "metadata": {
        "id": "hkKYsd-soRCQ"
      },
      "outputs": [],
      "source": [
        "def naive_matrix_vector_dot(x, y):\n",
        "    assert len(x.shape) == 2\n",
        "    assert len(y.shape) == 1\n",
        "    assert x.shape[1] == y.shape[0]\n",
        "    z = np.zeros(x.shape[0])\n",
        "    for i in range(x.shape[0]):\n",
        "        for j in range(x.shape[1]):\n",
        "            z[i] += x[i, j] * y[j]\n",
        "    return z"
      ]
    },
    {
      "cell_type": "code",
      "execution_count": null,
      "metadata": {
        "id": "hfD-OTl2oRCR"
      },
      "outputs": [],
      "source": [
        "def naive_matrix_vector_dot(x, y):\n",
        "    z = np.zeros(x.shape[0])\n",
        "    for i in range(x.shape[0]):\n",
        "        z[i] = naive_vector_dot(x[i, :], y)\n",
        "    return z"
      ]
    },
    {
      "cell_type": "code",
      "execution_count": null,
      "metadata": {
        "id": "qc_J_PFqoRCS"
      },
      "outputs": [],
      "source": [
        "def naive_matrix_dot(x, y):\n",
        "    assert len(x.shape) == 2\n",
        "    assert len(y.shape) == 2\n",
        "    assert x.shape[1] == y.shape[0]\n",
        "    z = np.zeros((x.shape[0], y.shape[1]))\n",
        "    for i in range(x.shape[0]):\n",
        "        for j in range(y.shape[1]):\n",
        "            row_x = x[i, :]\n",
        "            column_y = y[:, j]\n",
        "            z[i, j] = naive_vector_dot(row_x, column_y)\n",
        "    return z"
      ]
    },
    {
      "cell_type": "markdown",
      "metadata": {
        "id": "P2Yb47ZjoRCS"
      },
      "source": [
        "### Tensor reshaping"
      ]
    },
    {
      "cell_type": "code",
      "execution_count": null,
      "metadata": {
        "id": "YaLx9C5hoRCT"
      },
      "outputs": [],
      "source": [
        "train_images = train_images.reshape((60000, 28 * 28))"
      ]
    },
    {
      "cell_type": "code",
      "execution_count": null,
      "metadata": {
        "id": "k2bUM4OLoRCU"
      },
      "outputs": [],
      "source": [
        "x = np.array([[0., 1.],\n",
        "             [2., 3.],\n",
        "             [4., 5.]])\n",
        "x.shape"
      ]
    },
    {
      "cell_type": "code",
      "execution_count": null,
      "metadata": {
        "id": "eB3OBXsAoRCU"
      },
      "outputs": [],
      "source": [
        "x = x.reshape((6, 1))\n",
        "x"
      ]
    },
    {
      "cell_type": "code",
      "execution_count": null,
      "metadata": {
        "id": "bHyWPMwLoRCV",
        "colab": {
          "base_uri": "https://localhost:8080/"
        },
        "outputId": "e3a3896f-8d01-4dae-abf9-03b1fc1fd0cc"
      },
      "outputs": [
        {
          "output_type": "execute_result",
          "data": {
            "text/plain": [
              "(20, 300)"
            ]
          },
          "metadata": {},
          "execution_count": 34
        }
      ],
      "source": [
        "x = np.zeros((300, 20))\n",
        "x = np.transpose(x)\n",
        "x.shape"
      ]
    },
    {
      "cell_type": "markdown",
      "metadata": {
        "id": "4QFpfFvRoRCV"
      },
      "source": [
        "### Geometric interpretation of tensor operations"
      ]
    },
    {
      "cell_type": "markdown",
      "metadata": {
        "id": "XddSR8N6oRCW"
      },
      "source": [
        "### A geometric interpretation of deep learning"
      ]
    },
    {
      "cell_type": "markdown",
      "metadata": {
        "id": "2-pLBbGzoRCW"
      },
      "source": [
        "## The engine of neural networks: gradient-based optimization"
      ]
    },
    {
      "cell_type": "markdown",
      "metadata": {
        "id": "1NfiY0wioRCX"
      },
      "source": [
        "### What's a derivative?"
      ]
    },
    {
      "cell_type": "markdown",
      "metadata": {
        "id": "KnIgyUweoRCY"
      },
      "source": [
        "### Derivative of a tensor operation: the gradient"
      ]
    },
    {
      "cell_type": "markdown",
      "metadata": {
        "id": "pxfw0-eFoRCZ"
      },
      "source": [
        "### Stochastic gradient descent"
      ]
    },
    {
      "cell_type": "markdown",
      "metadata": {
        "id": "q0qMXBHCoRCZ"
      },
      "source": [
        "### Chaining derivatives: The Backpropagation algorithm"
      ]
    },
    {
      "cell_type": "markdown",
      "metadata": {
        "id": "C_epAgShoRCa"
      },
      "source": [
        "#### The chain rule"
      ]
    },
    {
      "cell_type": "markdown",
      "metadata": {
        "id": "v8RhwIUroRCa"
      },
      "source": [
        "#### Automatic differentiation with computation graphs"
      ]
    },
    {
      "cell_type": "markdown",
      "metadata": {
        "id": "2aaCerNEoRCb"
      },
      "source": [
        "#### The gradient tape in TensorFlow"
      ]
    },
    {
      "cell_type": "code",
      "execution_count": null,
      "metadata": {
        "id": "uk_rRc93oRCb"
      },
      "outputs": [],
      "source": [
        "import tensorflow as tf\n",
        "x = tf.Variable(0.)\n",
        "with tf.GradientTape() as tape:\n",
        "    y = 2 * x + 3\n",
        "grad_of_y_wrt_x = tape.gradient(y, x)"
      ]
    },
    {
      "cell_type": "code",
      "execution_count": null,
      "metadata": {
        "id": "iydB1rL-oRCc"
      },
      "outputs": [],
      "source": [
        "x = tf.Variable(tf.random.uniform((2, 2)))\n",
        "with tf.GradientTape() as tape:\n",
        "    y = 2 * x + 3\n",
        "grad_of_y_wrt_x = tape.gradient(y, x)"
      ]
    },
    {
      "cell_type": "code",
      "execution_count": null,
      "metadata": {
        "id": "dmbvoBG2oRCd"
      },
      "outputs": [],
      "source": [
        "W = tf.Variable(tf.random.uniform((2, 2)))\n",
        "b = tf.Variable(tf.zeros((2,)))\n",
        "x = tf.random.uniform((2, 2))\n",
        "with tf.GradientTape() as tape:\n",
        "    y = tf.matmul(x, W) + b\n",
        "grad_of_y_wrt_W_and_b = tape.gradient(y, [W, b])"
      ]
    },
    {
      "cell_type": "markdown",
      "metadata": {
        "id": "2fV_0bNSoRCe"
      },
      "source": [
        "## Looking back at our first example"
      ]
    },
    {
      "cell_type": "code",
      "execution_count": null,
      "metadata": {
        "id": "pdRGNQGwoRCe"
      },
      "outputs": [],
      "source": [
        "(train_images, train_labels), (test_images, test_labels) = mnist.load_data()\n",
        "train_images = train_images.reshape((60000, 28 * 28))\n",
        "train_images = train_images.astype(\"float32\") / 255\n",
        "test_images = test_images.reshape((10000, 28 * 28))\n",
        "test_images = test_images.astype(\"float32\") / 255"
      ]
    },
    {
      "cell_type": "code",
      "execution_count": null,
      "metadata": {
        "id": "cnxFPqgboRCf"
      },
      "outputs": [],
      "source": [
        "model = keras.Sequential([\n",
        "    layers.Dense(512, activation=\"relu\"),\n",
        "    layers.Dense(10, activation=\"softmax\")\n",
        "])"
      ]
    },
    {
      "cell_type": "code",
      "execution_count": null,
      "metadata": {
        "id": "RrMxtUDBoRCg"
      },
      "outputs": [],
      "source": [
        "model.compile(optimizer=\"rmsprop\",\n",
        "              loss=\"sparse_categorical_crossentropy\",\n",
        "              metrics=[\"accuracy\"])"
      ]
    },
    {
      "cell_type": "code",
      "execution_count": null,
      "metadata": {
        "id": "d-Kz0sQvoRCh"
      },
      "outputs": [],
      "source": [
        "model.fit(train_images, train_labels, epochs=5, batch_size=128)"
      ]
    },
    {
      "cell_type": "markdown",
      "metadata": {
        "id": "UgPkis7ToRCi"
      },
      "source": [
        "### Reimplementing our first example from scratch in TensorFlow"
      ]
    },
    {
      "cell_type": "markdown",
      "metadata": {
        "id": "1fHo21D3oRCj"
      },
      "source": [
        "#### A simple Dense class"
      ]
    },
    {
      "cell_type": "code",
      "execution_count": null,
      "metadata": {
        "id": "oCJ8QzYWoRCj"
      },
      "outputs": [],
      "source": [
        "import tensorflow as tf\n",
        "\n",
        "class NaiveDense:\n",
        "    def __init__(self, input_size, output_size, activation):\n",
        "        self.activation = activation\n",
        "\n",
        "        w_shape = (input_size, output_size)\n",
        "        w_initial_value = tf.random.uniform(w_shape, minval=0, maxval=1e-1)\n",
        "        self.W = tf.Variable(w_initial_value)\n",
        "\n",
        "        b_shape = (output_size,)\n",
        "        b_initial_value = tf.zeros(b_shape)\n",
        "        self.b = tf.Variable(b_initial_value)\n",
        "\n",
        "    def __call__(self, inputs):\n",
        "        return self.activation(tf.matmul(inputs, self.W) + self.b)\n",
        "\n",
        "    @property\n",
        "    def weights(self):\n",
        "        return [self.W, self.b]"
      ]
    },
    {
      "cell_type": "markdown",
      "metadata": {
        "id": "NBqPXDbDoRCl"
      },
      "source": [
        "#### A simple Sequential class"
      ]
    },
    {
      "cell_type": "code",
      "execution_count": null,
      "metadata": {
        "id": "w4vM_MH2oRCm"
      },
      "outputs": [],
      "source": [
        "class NaiveSequential:\n",
        "    def __init__(self, layers):\n",
        "        self.layers = layers\n",
        "\n",
        "    def __call__(self, inputs):\n",
        "        x = inputs\n",
        "        for layer in self.layers:\n",
        "           x = layer(x)\n",
        "        return x\n",
        "\n",
        "    @property\n",
        "    def weights(self):\n",
        "       weights = []\n",
        "       for layer in self.layers:\n",
        "           weights += layer.weights\n",
        "       return weights"
      ]
    },
    {
      "cell_type": "code",
      "execution_count": null,
      "metadata": {
        "id": "s7Er1zcHoRCo"
      },
      "outputs": [],
      "source": [
        "model = NaiveSequential([\n",
        "    NaiveDense(input_size=28 * 28, output_size=512, activation=tf.nn.relu),\n",
        "    NaiveDense(input_size=512, output_size=10, activation=tf.nn.softmax)\n",
        "])\n",
        "assert len(model.weights) == 4"
      ]
    },
    {
      "cell_type": "markdown",
      "metadata": {
        "id": "QxgYPZGYoRCp"
      },
      "source": [
        "#### A batch generator"
      ]
    },
    {
      "cell_type": "code",
      "execution_count": null,
      "metadata": {
        "id": "_3dfMrdxoRCp"
      },
      "outputs": [],
      "source": [
        "import math\n",
        "\n",
        "class BatchGenerator:\n",
        "    def __init__(self, images, labels, batch_size=128):\n",
        "        assert len(images) == len(labels)\n",
        "        self.index = 0\n",
        "        self.images = images\n",
        "        self.labels = labels\n",
        "        self.batch_size = batch_size\n",
        "        self.num_batches = math.ceil(len(images) / batch_size)\n",
        "\n",
        "    def next(self):\n",
        "        images = self.images[self.index : self.index + self.batch_size]\n",
        "        labels = self.labels[self.index : self.index + self.batch_size]\n",
        "        self.index += self.batch_size\n",
        "        return images, labels"
      ]
    },
    {
      "cell_type": "markdown",
      "metadata": {
        "id": "lvJ5luQdoRCq"
      },
      "source": [
        "### Running one training step"
      ]
    },
    {
      "cell_type": "code",
      "execution_count": null,
      "metadata": {
        "id": "hd_BjP2doRCr"
      },
      "outputs": [],
      "source": [
        "def one_training_step(model, images_batch, labels_batch):\n",
        "    with tf.GradientTape() as tape:\n",
        "        predictions = model(images_batch)\n",
        "        per_sample_losses = tf.keras.losses.sparse_categorical_crossentropy(\n",
        "            labels_batch, predictions)\n",
        "        average_loss = tf.reduce_mean(per_sample_losses)\n",
        "    gradients = tape.gradient(average_loss, model.weights)\n",
        "    update_weights(gradients, model.weights)\n",
        "    return average_loss"
      ]
    },
    {
      "cell_type": "code",
      "execution_count": null,
      "metadata": {
        "id": "MbPs_6FHoRCs"
      },
      "outputs": [],
      "source": [
        "learning_rate = 1e-3\n",
        "\n",
        "def update_weights(gradients, weights):\n",
        "    for g, w in zip(gradients, weights):\n",
        "        w.assign_sub(g * learning_rate)"
      ]
    },
    {
      "cell_type": "code",
      "execution_count": null,
      "metadata": {
        "id": "qH5S91ORoRCt"
      },
      "outputs": [],
      "source": [
        "from tensorflow.keras import optimizers\n",
        "\n",
        "optimizer = optimizers.SGD(learning_rate=1e-3)\n",
        "\n",
        "def update_weights(gradients, weights):\n",
        "    optimizer.apply_gradients(zip(gradients, weights))"
      ]
    },
    {
      "cell_type": "markdown",
      "metadata": {
        "id": "RvCzKaoyoRCt"
      },
      "source": [
        "### The full training loop"
      ]
    },
    {
      "cell_type": "code",
      "execution_count": null,
      "metadata": {
        "id": "xKH-3RfAoRCu"
      },
      "outputs": [],
      "source": [
        "def fit(model, images, labels, epochs, batch_size=128):\n",
        "    for epoch_counter in range(epochs):\n",
        "        print(f\"Epoch {epoch_counter}\")\n",
        "        batch_generator = BatchGenerator(images, labels)\n",
        "        for batch_counter in range(batch_generator.num_batches):\n",
        "            images_batch, labels_batch = batch_generator.next()\n",
        "            loss = one_training_step(model, images_batch, labels_batch)\n",
        "            if batch_counter % 100 == 0:\n",
        "                print(f\"loss at batch {batch_counter}: {loss:.2f}\")"
      ]
    },
    {
      "cell_type": "code",
      "execution_count": null,
      "metadata": {
        "id": "F9urJfIjoRCv"
      },
      "outputs": [],
      "source": [
        "from tensorflow.keras.datasets import mnist\n",
        "(train_images, train_labels), (test_images, test_labels) = mnist.load_data()\n",
        "\n",
        "train_images = train_images.reshape((60000, 28 * 28))\n",
        "train_images = train_images.astype(\"float32\") / 255\n",
        "test_images = test_images.reshape((10000, 28 * 28))\n",
        "test_images = test_images.astype(\"float32\") / 255\n",
        "\n",
        "fit(model, train_images, train_labels, epochs=10, batch_size=128)"
      ]
    },
    {
      "cell_type": "markdown",
      "metadata": {
        "id": "PmZX0zhgoRCw"
      },
      "source": [
        "### Evaluating the model"
      ]
    },
    {
      "cell_type": "code",
      "execution_count": null,
      "metadata": {
        "id": "1WiMQSXToRCx"
      },
      "outputs": [],
      "source": [
        "predictions = model(test_images)\n",
        "predictions = predictions.numpy()\n",
        "predicted_labels = np.argmax(predictions, axis=1)\n",
        "matches = predicted_labels == test_labels\n",
        "print(f\"accuracy: {matches.mean():.2f}\")"
      ]
    },
    {
      "cell_type": "markdown",
      "metadata": {
        "id": "d0orhILtoRCz"
      },
      "source": [
        "## Summary"
      ]
    },
    {
      "cell_type": "code",
      "source": [
        "import numpy as np\n",
        "x = np.random.random((64, 20))\n",
        "y = np.random.random((12,))\n"
      ],
      "metadata": {
        "id": "bwhROoqU9cxP"
      },
      "execution_count": null,
      "outputs": []
    },
    {
      "cell_type": "code",
      "source": [
        "x #random numpy, size is (64, 20)"
      ],
      "metadata": {
        "colab": {
          "base_uri": "https://localhost:8080/"
        },
        "id": "MjGnjELQ-KOY",
        "outputId": "9a71cd01-7dc8-4e69-8f55-835c16f07ad5"
      },
      "execution_count": null,
      "outputs": [
        {
          "output_type": "execute_result",
          "data": {
            "text/plain": [
              "array([[0.69878159, 0.72161315, 0.21181718, ..., 0.21445289, 0.34027326,\n",
              "        0.04094972],\n",
              "       [0.39899198, 0.93774679, 0.36780171, ..., 0.01948819, 0.754563  ,\n",
              "        0.51527801],\n",
              "       [0.02763531, 0.98351912, 0.83140642, ..., 0.08930558, 0.76852538,\n",
              "        0.68439084],\n",
              "       ...,\n",
              "       [0.81589502, 0.45957105, 0.45339038, ..., 0.70850245, 0.60054771,\n",
              "        0.13366749],\n",
              "       [0.58719641, 0.91755782, 0.72505134, ..., 0.26987575, 0.12374782,\n",
              "        0.36448409],\n",
              "       [0.59356527, 0.42752512, 0.07415664, ..., 0.73671357, 0.84264514,\n",
              "        0.88373294]])"
            ]
          },
          "metadata": {},
          "execution_count": 7
        }
      ]
    },
    {
      "cell_type": "code",
      "source": [
        "y #randon numpy, size is (12,0)"
      ],
      "metadata": {
        "colab": {
          "base_uri": "https://localhost:8080/"
        },
        "id": "uISZ43MN-Kkd",
        "outputId": "11d33108-af2d-4d48-a5e7-8f81d17124e7"
      },
      "execution_count": null,
      "outputs": [
        {
          "output_type": "execute_result",
          "data": {
            "text/plain": [
              "array([0.22493872, 0.31628563, 0.41846618, 0.50391058, 0.29261309,\n",
              "       0.11271893, 0.72344766, 0.71780445, 0.86924518, 0.56031499,\n",
              "       0.74749613, 0.75633545])"
            ]
          },
          "metadata": {},
          "execution_count": 8
        }
      ]
    },
    {
      "cell_type": "code",
      "source": [
        "y = np.expand_dims(y, axis=0) #expand Y axis"
      ],
      "metadata": {
        "id": "fXqE2g0d963M"
      },
      "execution_count": null,
      "outputs": []
    },
    {
      "cell_type": "code",
      "source": [
        "y"
      ],
      "metadata": {
        "colab": {
          "base_uri": "https://localhost:8080/"
        },
        "id": "kDM1X8oJ-Oar",
        "outputId": "3a9582d8-c4d5-40ca-a213-641c118ac890"
      },
      "execution_count": null,
      "outputs": [
        {
          "output_type": "execute_result",
          "data": {
            "text/plain": [
              "array([[0.22493872, 0.31628563, 0.41846618, 0.50391058, 0.29261309,\n",
              "        0.11271893, 0.72344766, 0.71780445, 0.86924518, 0.56031499,\n",
              "        0.74749613, 0.75633545]])"
            ]
          },
          "metadata": {},
          "execution_count": 10
        }
      ]
    },
    {
      "cell_type": "code",
      "source": [
        "y = np.concatenate([y] * 32, axis=0) #copy Y 32 times"
      ],
      "metadata": {
        "id": "uvCa2ZeU992v"
      },
      "execution_count": null,
      "outputs": []
    },
    {
      "cell_type": "code",
      "source": [
        "y"
      ],
      "metadata": {
        "colab": {
          "base_uri": "https://localhost:8080/"
        },
        "id": "aO5geYUN-SMu",
        "outputId": "3e4bdc2e-9e09-41a5-d0e6-75e012f3eebc"
      },
      "execution_count": null,
      "outputs": [
        {
          "output_type": "execute_result",
          "data": {
            "text/plain": [
              "array([[0.22493872, 0.31628563, 0.41846618, 0.50391058, 0.29261309,\n",
              "        0.11271893, 0.72344766, 0.71780445, 0.86924518, 0.56031499,\n",
              "        0.74749613, 0.75633545],\n",
              "       [0.22493872, 0.31628563, 0.41846618, 0.50391058, 0.29261309,\n",
              "        0.11271893, 0.72344766, 0.71780445, 0.86924518, 0.56031499,\n",
              "        0.74749613, 0.75633545],\n",
              "       [0.22493872, 0.31628563, 0.41846618, 0.50391058, 0.29261309,\n",
              "        0.11271893, 0.72344766, 0.71780445, 0.86924518, 0.56031499,\n",
              "        0.74749613, 0.75633545],\n",
              "       [0.22493872, 0.31628563, 0.41846618, 0.50391058, 0.29261309,\n",
              "        0.11271893, 0.72344766, 0.71780445, 0.86924518, 0.56031499,\n",
              "        0.74749613, 0.75633545],\n",
              "       [0.22493872, 0.31628563, 0.41846618, 0.50391058, 0.29261309,\n",
              "        0.11271893, 0.72344766, 0.71780445, 0.86924518, 0.56031499,\n",
              "        0.74749613, 0.75633545],\n",
              "       [0.22493872, 0.31628563, 0.41846618, 0.50391058, 0.29261309,\n",
              "        0.11271893, 0.72344766, 0.71780445, 0.86924518, 0.56031499,\n",
              "        0.74749613, 0.75633545],\n",
              "       [0.22493872, 0.31628563, 0.41846618, 0.50391058, 0.29261309,\n",
              "        0.11271893, 0.72344766, 0.71780445, 0.86924518, 0.56031499,\n",
              "        0.74749613, 0.75633545],\n",
              "       [0.22493872, 0.31628563, 0.41846618, 0.50391058, 0.29261309,\n",
              "        0.11271893, 0.72344766, 0.71780445, 0.86924518, 0.56031499,\n",
              "        0.74749613, 0.75633545],\n",
              "       [0.22493872, 0.31628563, 0.41846618, 0.50391058, 0.29261309,\n",
              "        0.11271893, 0.72344766, 0.71780445, 0.86924518, 0.56031499,\n",
              "        0.74749613, 0.75633545],\n",
              "       [0.22493872, 0.31628563, 0.41846618, 0.50391058, 0.29261309,\n",
              "        0.11271893, 0.72344766, 0.71780445, 0.86924518, 0.56031499,\n",
              "        0.74749613, 0.75633545],\n",
              "       [0.22493872, 0.31628563, 0.41846618, 0.50391058, 0.29261309,\n",
              "        0.11271893, 0.72344766, 0.71780445, 0.86924518, 0.56031499,\n",
              "        0.74749613, 0.75633545],\n",
              "       [0.22493872, 0.31628563, 0.41846618, 0.50391058, 0.29261309,\n",
              "        0.11271893, 0.72344766, 0.71780445, 0.86924518, 0.56031499,\n",
              "        0.74749613, 0.75633545],\n",
              "       [0.22493872, 0.31628563, 0.41846618, 0.50391058, 0.29261309,\n",
              "        0.11271893, 0.72344766, 0.71780445, 0.86924518, 0.56031499,\n",
              "        0.74749613, 0.75633545],\n",
              "       [0.22493872, 0.31628563, 0.41846618, 0.50391058, 0.29261309,\n",
              "        0.11271893, 0.72344766, 0.71780445, 0.86924518, 0.56031499,\n",
              "        0.74749613, 0.75633545],\n",
              "       [0.22493872, 0.31628563, 0.41846618, 0.50391058, 0.29261309,\n",
              "        0.11271893, 0.72344766, 0.71780445, 0.86924518, 0.56031499,\n",
              "        0.74749613, 0.75633545],\n",
              "       [0.22493872, 0.31628563, 0.41846618, 0.50391058, 0.29261309,\n",
              "        0.11271893, 0.72344766, 0.71780445, 0.86924518, 0.56031499,\n",
              "        0.74749613, 0.75633545],\n",
              "       [0.22493872, 0.31628563, 0.41846618, 0.50391058, 0.29261309,\n",
              "        0.11271893, 0.72344766, 0.71780445, 0.86924518, 0.56031499,\n",
              "        0.74749613, 0.75633545],\n",
              "       [0.22493872, 0.31628563, 0.41846618, 0.50391058, 0.29261309,\n",
              "        0.11271893, 0.72344766, 0.71780445, 0.86924518, 0.56031499,\n",
              "        0.74749613, 0.75633545],\n",
              "       [0.22493872, 0.31628563, 0.41846618, 0.50391058, 0.29261309,\n",
              "        0.11271893, 0.72344766, 0.71780445, 0.86924518, 0.56031499,\n",
              "        0.74749613, 0.75633545],\n",
              "       [0.22493872, 0.31628563, 0.41846618, 0.50391058, 0.29261309,\n",
              "        0.11271893, 0.72344766, 0.71780445, 0.86924518, 0.56031499,\n",
              "        0.74749613, 0.75633545],\n",
              "       [0.22493872, 0.31628563, 0.41846618, 0.50391058, 0.29261309,\n",
              "        0.11271893, 0.72344766, 0.71780445, 0.86924518, 0.56031499,\n",
              "        0.74749613, 0.75633545],\n",
              "       [0.22493872, 0.31628563, 0.41846618, 0.50391058, 0.29261309,\n",
              "        0.11271893, 0.72344766, 0.71780445, 0.86924518, 0.56031499,\n",
              "        0.74749613, 0.75633545],\n",
              "       [0.22493872, 0.31628563, 0.41846618, 0.50391058, 0.29261309,\n",
              "        0.11271893, 0.72344766, 0.71780445, 0.86924518, 0.56031499,\n",
              "        0.74749613, 0.75633545],\n",
              "       [0.22493872, 0.31628563, 0.41846618, 0.50391058, 0.29261309,\n",
              "        0.11271893, 0.72344766, 0.71780445, 0.86924518, 0.56031499,\n",
              "        0.74749613, 0.75633545],\n",
              "       [0.22493872, 0.31628563, 0.41846618, 0.50391058, 0.29261309,\n",
              "        0.11271893, 0.72344766, 0.71780445, 0.86924518, 0.56031499,\n",
              "        0.74749613, 0.75633545],\n",
              "       [0.22493872, 0.31628563, 0.41846618, 0.50391058, 0.29261309,\n",
              "        0.11271893, 0.72344766, 0.71780445, 0.86924518, 0.56031499,\n",
              "        0.74749613, 0.75633545],\n",
              "       [0.22493872, 0.31628563, 0.41846618, 0.50391058, 0.29261309,\n",
              "        0.11271893, 0.72344766, 0.71780445, 0.86924518, 0.56031499,\n",
              "        0.74749613, 0.75633545],\n",
              "       [0.22493872, 0.31628563, 0.41846618, 0.50391058, 0.29261309,\n",
              "        0.11271893, 0.72344766, 0.71780445, 0.86924518, 0.56031499,\n",
              "        0.74749613, 0.75633545],\n",
              "       [0.22493872, 0.31628563, 0.41846618, 0.50391058, 0.29261309,\n",
              "        0.11271893, 0.72344766, 0.71780445, 0.86924518, 0.56031499,\n",
              "        0.74749613, 0.75633545],\n",
              "       [0.22493872, 0.31628563, 0.41846618, 0.50391058, 0.29261309,\n",
              "        0.11271893, 0.72344766, 0.71780445, 0.86924518, 0.56031499,\n",
              "        0.74749613, 0.75633545],\n",
              "       [0.22493872, 0.31628563, 0.41846618, 0.50391058, 0.29261309,\n",
              "        0.11271893, 0.72344766, 0.71780445, 0.86924518, 0.56031499,\n",
              "        0.74749613, 0.75633545],\n",
              "       [0.22493872, 0.31628563, 0.41846618, 0.50391058, 0.29261309,\n",
              "        0.11271893, 0.72344766, 0.71780445, 0.86924518, 0.56031499,\n",
              "        0.74749613, 0.75633545]])"
            ]
          },
          "metadata": {},
          "execution_count": 12
        }
      ]
    },
    {
      "cell_type": "code",
      "source": [
        "def naive_add_matrix_and_vector(x, y):\n",
        "    assert len(x.shape) == 2\n",
        "    assert len(y.shape) == 1\n",
        "    assert x.shape[1] == y.shape[0]\n",
        "    x = x.copy()\n",
        "    for i in range(x.shape[0]):\n",
        "        for j in range(x.shape[1]):\n",
        "            x[i, j] += y[j]\n",
        "    return x\n",
        "\n",
        "  #새 축을 따라 반복되는 벡터가 추가"
      ],
      "metadata": {
        "id": "Oz9aAxAj-BvR"
      },
      "execution_count": null,
      "outputs": []
    },
    {
      "cell_type": "code",
      "source": [
        "y"
      ],
      "metadata": {
        "colab": {
          "base_uri": "https://localhost:8080/"
        },
        "id": "uPN5xmfb-9HX",
        "outputId": "203c512d-6d00-4cd7-bdb6-ec2c1da6b85a"
      },
      "execution_count": null,
      "outputs": [
        {
          "output_type": "execute_result",
          "data": {
            "text/plain": [
              "array([[0.22493872, 0.31628563, 0.41846618, 0.50391058, 0.29261309,\n",
              "        0.11271893, 0.72344766, 0.71780445, 0.86924518, 0.56031499,\n",
              "        0.74749613, 0.75633545],\n",
              "       [0.22493872, 0.31628563, 0.41846618, 0.50391058, 0.29261309,\n",
              "        0.11271893, 0.72344766, 0.71780445, 0.86924518, 0.56031499,\n",
              "        0.74749613, 0.75633545],\n",
              "       [0.22493872, 0.31628563, 0.41846618, 0.50391058, 0.29261309,\n",
              "        0.11271893, 0.72344766, 0.71780445, 0.86924518, 0.56031499,\n",
              "        0.74749613, 0.75633545],\n",
              "       [0.22493872, 0.31628563, 0.41846618, 0.50391058, 0.29261309,\n",
              "        0.11271893, 0.72344766, 0.71780445, 0.86924518, 0.56031499,\n",
              "        0.74749613, 0.75633545],\n",
              "       [0.22493872, 0.31628563, 0.41846618, 0.50391058, 0.29261309,\n",
              "        0.11271893, 0.72344766, 0.71780445, 0.86924518, 0.56031499,\n",
              "        0.74749613, 0.75633545],\n",
              "       [0.22493872, 0.31628563, 0.41846618, 0.50391058, 0.29261309,\n",
              "        0.11271893, 0.72344766, 0.71780445, 0.86924518, 0.56031499,\n",
              "        0.74749613, 0.75633545],\n",
              "       [0.22493872, 0.31628563, 0.41846618, 0.50391058, 0.29261309,\n",
              "        0.11271893, 0.72344766, 0.71780445, 0.86924518, 0.56031499,\n",
              "        0.74749613, 0.75633545],\n",
              "       [0.22493872, 0.31628563, 0.41846618, 0.50391058, 0.29261309,\n",
              "        0.11271893, 0.72344766, 0.71780445, 0.86924518, 0.56031499,\n",
              "        0.74749613, 0.75633545],\n",
              "       [0.22493872, 0.31628563, 0.41846618, 0.50391058, 0.29261309,\n",
              "        0.11271893, 0.72344766, 0.71780445, 0.86924518, 0.56031499,\n",
              "        0.74749613, 0.75633545],\n",
              "       [0.22493872, 0.31628563, 0.41846618, 0.50391058, 0.29261309,\n",
              "        0.11271893, 0.72344766, 0.71780445, 0.86924518, 0.56031499,\n",
              "        0.74749613, 0.75633545],\n",
              "       [0.22493872, 0.31628563, 0.41846618, 0.50391058, 0.29261309,\n",
              "        0.11271893, 0.72344766, 0.71780445, 0.86924518, 0.56031499,\n",
              "        0.74749613, 0.75633545],\n",
              "       [0.22493872, 0.31628563, 0.41846618, 0.50391058, 0.29261309,\n",
              "        0.11271893, 0.72344766, 0.71780445, 0.86924518, 0.56031499,\n",
              "        0.74749613, 0.75633545],\n",
              "       [0.22493872, 0.31628563, 0.41846618, 0.50391058, 0.29261309,\n",
              "        0.11271893, 0.72344766, 0.71780445, 0.86924518, 0.56031499,\n",
              "        0.74749613, 0.75633545],\n",
              "       [0.22493872, 0.31628563, 0.41846618, 0.50391058, 0.29261309,\n",
              "        0.11271893, 0.72344766, 0.71780445, 0.86924518, 0.56031499,\n",
              "        0.74749613, 0.75633545],\n",
              "       [0.22493872, 0.31628563, 0.41846618, 0.50391058, 0.29261309,\n",
              "        0.11271893, 0.72344766, 0.71780445, 0.86924518, 0.56031499,\n",
              "        0.74749613, 0.75633545],\n",
              "       [0.22493872, 0.31628563, 0.41846618, 0.50391058, 0.29261309,\n",
              "        0.11271893, 0.72344766, 0.71780445, 0.86924518, 0.56031499,\n",
              "        0.74749613, 0.75633545],\n",
              "       [0.22493872, 0.31628563, 0.41846618, 0.50391058, 0.29261309,\n",
              "        0.11271893, 0.72344766, 0.71780445, 0.86924518, 0.56031499,\n",
              "        0.74749613, 0.75633545],\n",
              "       [0.22493872, 0.31628563, 0.41846618, 0.50391058, 0.29261309,\n",
              "        0.11271893, 0.72344766, 0.71780445, 0.86924518, 0.56031499,\n",
              "        0.74749613, 0.75633545],\n",
              "       [0.22493872, 0.31628563, 0.41846618, 0.50391058, 0.29261309,\n",
              "        0.11271893, 0.72344766, 0.71780445, 0.86924518, 0.56031499,\n",
              "        0.74749613, 0.75633545],\n",
              "       [0.22493872, 0.31628563, 0.41846618, 0.50391058, 0.29261309,\n",
              "        0.11271893, 0.72344766, 0.71780445, 0.86924518, 0.56031499,\n",
              "        0.74749613, 0.75633545],\n",
              "       [0.22493872, 0.31628563, 0.41846618, 0.50391058, 0.29261309,\n",
              "        0.11271893, 0.72344766, 0.71780445, 0.86924518, 0.56031499,\n",
              "        0.74749613, 0.75633545],\n",
              "       [0.22493872, 0.31628563, 0.41846618, 0.50391058, 0.29261309,\n",
              "        0.11271893, 0.72344766, 0.71780445, 0.86924518, 0.56031499,\n",
              "        0.74749613, 0.75633545],\n",
              "       [0.22493872, 0.31628563, 0.41846618, 0.50391058, 0.29261309,\n",
              "        0.11271893, 0.72344766, 0.71780445, 0.86924518, 0.56031499,\n",
              "        0.74749613, 0.75633545],\n",
              "       [0.22493872, 0.31628563, 0.41846618, 0.50391058, 0.29261309,\n",
              "        0.11271893, 0.72344766, 0.71780445, 0.86924518, 0.56031499,\n",
              "        0.74749613, 0.75633545],\n",
              "       [0.22493872, 0.31628563, 0.41846618, 0.50391058, 0.29261309,\n",
              "        0.11271893, 0.72344766, 0.71780445, 0.86924518, 0.56031499,\n",
              "        0.74749613, 0.75633545],\n",
              "       [0.22493872, 0.31628563, 0.41846618, 0.50391058, 0.29261309,\n",
              "        0.11271893, 0.72344766, 0.71780445, 0.86924518, 0.56031499,\n",
              "        0.74749613, 0.75633545],\n",
              "       [0.22493872, 0.31628563, 0.41846618, 0.50391058, 0.29261309,\n",
              "        0.11271893, 0.72344766, 0.71780445, 0.86924518, 0.56031499,\n",
              "        0.74749613, 0.75633545],\n",
              "       [0.22493872, 0.31628563, 0.41846618, 0.50391058, 0.29261309,\n",
              "        0.11271893, 0.72344766, 0.71780445, 0.86924518, 0.56031499,\n",
              "        0.74749613, 0.75633545],\n",
              "       [0.22493872, 0.31628563, 0.41846618, 0.50391058, 0.29261309,\n",
              "        0.11271893, 0.72344766, 0.71780445, 0.86924518, 0.56031499,\n",
              "        0.74749613, 0.75633545],\n",
              "       [0.22493872, 0.31628563, 0.41846618, 0.50391058, 0.29261309,\n",
              "        0.11271893, 0.72344766, 0.71780445, 0.86924518, 0.56031499,\n",
              "        0.74749613, 0.75633545],\n",
              "       [0.22493872, 0.31628563, 0.41846618, 0.50391058, 0.29261309,\n",
              "        0.11271893, 0.72344766, 0.71780445, 0.86924518, 0.56031499,\n",
              "        0.74749613, 0.75633545],\n",
              "       [0.22493872, 0.31628563, 0.41846618, 0.50391058, 0.29261309,\n",
              "        0.11271893, 0.72344766, 0.71780445, 0.86924518, 0.56031499,\n",
              "        0.74749613, 0.75633545]])"
            ]
          },
          "metadata": {},
          "execution_count": 19
        }
      ]
    },
    {
      "cell_type": "code",
      "source": [
        "y.shape"
      ],
      "metadata": {
        "colab": {
          "base_uri": "https://localhost:8080/"
        },
        "id": "s_g7-q-P_04u",
        "outputId": "1b9f23fc-49cd-45af-9226-ddf92932dd6c"
      },
      "execution_count": null,
      "outputs": [
        {
          "output_type": "execute_result",
          "data": {
            "text/plain": [
              "(32, 12)"
            ]
          },
          "metadata": {},
          "execution_count": 20
        }
      ]
    },
    {
      "cell_type": "code",
      "source": [
        "x = np.random.random((20,))\n",
        "y = np.random.random((20,))\n",
        "z = np.dot(x, y)"
      ],
      "metadata": {
        "id": "VMnjdMl_AGVG"
      },
      "execution_count": null,
      "outputs": []
    },
    {
      "cell_type": "code",
      "source": [
        "def naive_vector_dot(x, y):\n",
        "    assert len(x.shape) == 1\n",
        "    assert len(y.shape) == 1\n",
        "    assert x.shape[0] == y.shape[0]\n",
        "    z = 0.\n",
        "    for i in range(x.shape[0]):\n",
        "        z += x[i] * y[i]\n",
        "    return z"
      ],
      "metadata": {
        "id": "qdvCqY0qAL3t"
      },
      "execution_count": null,
      "outputs": []
    },
    {
      "cell_type": "code",
      "source": [
        "z # z= (x[1]+y[1])"
      ],
      "metadata": {
        "colab": {
          "base_uri": "https://localhost:8080/"
        },
        "id": "oxz6H9U6AZef",
        "outputId": "588ada6b-066b-43ee-f6ad-7a90319b6ec1"
      },
      "execution_count": null,
      "outputs": [
        {
          "output_type": "execute_result",
          "data": {
            "text/plain": [
              "5.678660607109837"
            ]
          },
          "metadata": {},
          "execution_count": 23
        }
      ]
    },
    {
      "cell_type": "code",
      "source": [
        "x = np.random.random((20,))\n",
        "y = np.random.random((20,))\n",
        "z = np.dot(x, y)"
      ],
      "metadata": {
        "id": "ZbIl3WfFAxzc"
      },
      "execution_count": null,
      "outputs": []
    },
    {
      "cell_type": "code",
      "source": [
        "def naive_matrix_vector_dot(x, y):\n",
        "    assert len(x.shape) == 2\n",
        "    assert len(y.shape) == 1\n",
        "    assert x.shape[1] == y.shape[0]\n",
        "    z = np.zeros(x.shape[0])\n",
        "    for i in range(x.shape[0]):\n",
        "        for j in range(x.shape[1]):\n",
        "            z[i] += x[i, j] * y[j]\n",
        "    return z\n",
        "  #corresponse dimenson"
      ],
      "metadata": {
        "id": "_gfxV5_0AP-7"
      },
      "execution_count": null,
      "outputs": []
    },
    {
      "cell_type": "code",
      "source": [
        "x"
      ],
      "metadata": {
        "colab": {
          "base_uri": "https://localhost:8080/"
        },
        "id": "t7vFFe2bBHlO",
        "outputId": "a75a6bcb-343e-47f9-e7ee-c99f03ba1044"
      },
      "execution_count": null,
      "outputs": [
        {
          "output_type": "execute_result",
          "data": {
            "text/plain": [
              "array([0.92705482, 0.71402446, 0.52374669, 0.91902295, 0.36320063,\n",
              "       0.9271185 , 0.94686643, 0.53431768, 0.18083775, 0.66948169,\n",
              "       0.73993838, 0.60750425, 0.27140068, 0.9348012 , 0.34875153,\n",
              "       0.64578484, 0.61892772, 0.440232  , 0.2752002 , 0.34650164])"
            ]
          },
          "metadata": {},
          "execution_count": 29
        }
      ]
    },
    {
      "cell_type": "code",
      "source": [
        "y"
      ],
      "metadata": {
        "colab": {
          "base_uri": "https://localhost:8080/"
        },
        "id": "7qeqlQxBBI_-",
        "outputId": "5f7f59cb-189f-49ef-e44b-ef2ef84ccd1c"
      },
      "execution_count": null,
      "outputs": [
        {
          "output_type": "execute_result",
          "data": {
            "text/plain": [
              "array([0.29294563, 0.32015367, 0.49638944, 0.44774895, 0.86508402,\n",
              "       0.95066566, 0.1899613 , 0.3730366 , 0.17386637, 0.33490811,\n",
              "       0.35251926, 0.73192686, 0.16103536, 0.90710348, 0.36574191,\n",
              "       0.1787295 , 0.48350951, 0.45232787, 0.28459847, 0.9688687 ])"
            ]
          },
          "metadata": {},
          "execution_count": 30
        }
      ]
    },
    {
      "cell_type": "code",
      "source": [
        "z # z = (x[0,1] + y[1]) "
      ],
      "metadata": {
        "colab": {
          "base_uri": "https://localhost:8080/"
        },
        "id": "0rj4FLxfAshK",
        "outputId": "701fce4e-182f-4cee-e30b-2311b9743095"
      },
      "execution_count": null,
      "outputs": [
        {
          "output_type": "execute_result",
          "data": {
            "text/plain": [
              "5.754625735785052"
            ]
          },
          "metadata": {},
          "execution_count": 28
        }
      ]
    },
    {
      "cell_type": "code",
      "source": [
        "def naive_matrix_vector_dot(x, y):\n",
        "    z = np.zeros(x.shape[0])\n",
        "    for i in range(x.shape[0]):\n",
        "        z[i] = naive_vector_dot(x[i, :], y)\n",
        "    return z"
      ],
      "metadata": {
        "id": "HOQG3FY3ATbu"
      },
      "execution_count": null,
      "outputs": []
    },
    {
      "cell_type": "code",
      "source": [
        "z"
      ],
      "metadata": {
        "colab": {
          "base_uri": "https://localhost:8080/"
        },
        "id": "xa_CRUnMBlrC",
        "outputId": "4f72f888-8ef0-4f67-9900-9eca9cb487c5"
      },
      "execution_count": null,
      "outputs": [
        {
          "output_type": "execute_result",
          "data": {
            "text/plain": [
              "5.754625735785052"
            ]
          },
          "metadata": {},
          "execution_count": 32
        }
      ]
    },
    {
      "cell_type": "code",
      "source": [
        "def naive_matrix_dot(x, y):\n",
        "    assert len(x.shape) == 2\n",
        "    assert len(y.shape) == 2\n",
        "    assert x.shape[1] == y.shape[0]\n",
        "    z = np.zeros((x.shape[0], y.shape[1]))\n",
        "    for i in range(x.shape[0]):\n",
        "        for j in range(y.shape[1]):\n",
        "            row_x = x[i, :]\n",
        "            column_y = y[:, j]\n",
        "            z[i, j] = naive_vector_dot(row_x, column_y)\n",
        "    return z"
      ],
      "metadata": {
        "id": "U-_tL8H8AXAC"
      },
      "execution_count": null,
      "outputs": []
    },
    {
      "cell_type": "code",
      "source": [
        "z"
      ],
      "metadata": {
        "colab": {
          "base_uri": "https://localhost:8080/"
        },
        "id": "FVxT0wS_BsO6",
        "outputId": "009675f1-9147-4f2b-ba4a-a24b7cc83ca2"
      },
      "execution_count": null,
      "outputs": [
        {
          "output_type": "execute_result",
          "data": {
            "text/plain": [
              "5.754625735785052"
            ]
          },
          "metadata": {},
          "execution_count": 33
        }
      ]
    },
    {
      "cell_type": "code",
      "source": [
        "x = np.array([[0,1,2],\n",
        "             [45,87,246],\n",
        "             [397, 10946, 3]])\n",
        "x"
      ],
      "metadata": {
        "colab": {
          "base_uri": "https://localhost:8080/"
        },
        "id": "qcU_xWM6B321",
        "outputId": "03aa7401-4120-4750-ef58-44394a61b811"
      },
      "execution_count": null,
      "outputs": [
        {
          "output_type": "execute_result",
          "data": {
            "text/plain": [
              "array([[    0,     1,     2],\n",
              "       [   45,    87,   246],\n",
              "       [  397, 10946,     3]])"
            ]
          },
          "metadata": {},
          "execution_count": 36
        }
      ]
    },
    {
      "cell_type": "code",
      "source": [
        "x = x.reshape((1,9))\n",
        "x # x.shape = (3,3) -> (1,9)"
      ],
      "metadata": {
        "colab": {
          "base_uri": "https://localhost:8080/"
        },
        "id": "PK2spBC9CFBO",
        "outputId": "9ac2f996-2661-46fb-fcfb-a10b1dacdbab"
      },
      "execution_count": null,
      "outputs": [
        {
          "output_type": "execute_result",
          "data": {
            "text/plain": [
              "array([[    0,     1,     2,    45,    87,   246,   397, 10946,     3]])"
            ]
          },
          "metadata": {},
          "execution_count": 38
        }
      ]
    },
    {
      "cell_type": "code",
      "source": [
        "x = np.transpose(x)\n",
        "x #역전치치"
      ],
      "metadata": {
        "colab": {
          "base_uri": "https://localhost:8080/"
        },
        "id": "bpUOJblXCSkA",
        "outputId": "f378afdd-8b0a-4631-a9f1-7c66bb5d64e8"
      },
      "execution_count": null,
      "outputs": [
        {
          "output_type": "execute_result",
          "data": {
            "text/plain": [
              "array([[    0],\n",
              "       [    1],\n",
              "       [    2],\n",
              "       [   45],\n",
              "       [   87],\n",
              "       [  246],\n",
              "       [  397],\n",
              "       [10946],\n",
              "       [    3]])"
            ]
          },
          "metadata": {},
          "execution_count": 39
        }
      ]
    }
  ],
  "metadata": {
    "colab": {
      "name": "chapter02_mathematical-building-blocks.i",
      "provenance": [],
      "toc_visible": true,
      "include_colab_link": true
    },
    "kernelspec": {
      "display_name": "Python 3",
      "language": "python",
      "name": "python3"
    },
    "language_info": {
      "codemirror_mode": {
        "name": "ipython",
        "version": 3
      },
      "file_extension": ".py",
      "mimetype": "text/x-python",
      "name": "python",
      "nbconvert_exporter": "python",
      "pygments_lexer": "ipython3",
      "version": "3.7.0"
    }
  },
  "nbformat": 4,
  "nbformat_minor": 0
}