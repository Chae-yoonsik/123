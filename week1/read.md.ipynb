{
  "nbformat": 4,
  "nbformat_minor": 0,
  "metadata": {
    "colab": {
      "provenance": [],
      "authorship_tag": "ABX9TyP7YsmsKuyP1KVVfKAfq0Kr",
      "include_colab_link": true
    },
    "kernelspec": {
      "name": "python3",
      "display_name": "Python 3"
    },
    "language_info": {
      "name": "python"
    }
  },
  "cells": [
    {
      "cell_type": "markdown",
      "metadata": {
        "id": "view-in-github",
        "colab_type": "text"
      },
      "source": [
        "<a href=\"https://colab.research.google.com/github/Chae-yoonsik/123/blob/main/week1/read.md.ipynb\" target=\"_parent\"><img src=\"https://colab.research.google.com/assets/colab-badge.svg\" alt=\"Open In Colab\"/></a>"
      ]
    },
    {
      "cell_type": "code",
      "execution_count": null,
      "metadata": {
        "colab": {
          "base_uri": "https://localhost:8080/"
        },
        "id": "PrGY95Vyt7a9",
        "outputId": "d2bbd546-0fa5-40e4-ea83-affd3b0582ac"
      },
      "outputs": [
        {
          "output_type": "execute_result",
          "data": {
            "text/plain": [
              "2"
            ]
          },
          "metadata": {},
          "execution_count": 2
        }
      ],
      "source": []
    },
    {
      "cell_type": "markdown",
      "source": [
        "# title 1\n",
        "* list 1\n",
        "* list 2\n",
        "> [**네이버**](https://www.naver.com) \n",
        "\n",
        "_python_\n",
        "###**python is hard**\n"
      ],
      "metadata": {
        "id": "ns_IYieSuNzO"
      }
    }
  ]
}