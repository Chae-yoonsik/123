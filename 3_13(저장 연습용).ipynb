{
  "nbformat": 4,
  "nbformat_minor": 0,
  "metadata": {
    "colab": {
      "provenance": [],
      "authorship_tag": "ABX9TyPZt3TP8r8Cr0HP59hNO1+M",
      "include_colab_link": true
    },
    "kernelspec": {
      "name": "python3",
      "display_name": "Python 3"
    },
    "language_info": {
      "name": "python"
    }
  },
  "cells": [
    {
      "cell_type": "markdown",
      "metadata": {
        "id": "view-in-github",
        "colab_type": "text"
      },
      "source": [
        "<a href=\"https://colab.research.google.com/github/Chae-yoonsik/111111111/blob/main/3_13(%EC%A0%80%EC%9E%A5%20%EC%97%B0%EC%8A%B5%EC%9A%A9).ipynb\" target=\"_parent\"><img src=\"https://colab.research.google.com/assets/colab-badge.svg\" alt=\"Open In Colab\"/></a>"
      ]
    },
    {
      "cell_type": "code",
      "execution_count": 2,
      "metadata": {
        "colab": {
          "base_uri": "https://localhost:8080/"
        },
        "id": "PrGY95Vyt7a9",
        "outputId": "d2bbd546-0fa5-40e4-ea83-affd3b0582ac"
      },
      "outputs": [
        {
          "output_type": "execute_result",
          "data": {
            "text/plain": [
              "2"
            ]
          },
          "metadata": {},
          "execution_count": 2
        }
      ],
      "source": []
    },
    {
      "cell_type": "markdown",
      "source": [
        "# title 1\n",
        "* list 1\n",
        "* list 2\n",
        "> [**네이버**](https://www.naver.com) \n"
      ],
      "metadata": {
        "id": "ns_IYieSuNzO"
      }
    }
  ]
}