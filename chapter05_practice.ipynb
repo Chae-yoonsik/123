{
  "cells": [
    {
      "cell_type": "markdown",
      "metadata": {
        "id": "WUS9W1CZwzc9"
      },
      "source": [
        "This is a companion notebook for the book [Deep Learning with Python, Second Edition](https://www.manning.com/books/deep-learning-with-python-second-edition?a_aid=keras&a_bid=76564dff). For readability, it only contains runnable code blocks and section titles, and omits everything else in the book: text paragraphs, figures, and pseudocode.\n",
        "\n",
        "**If you want to be able to follow what's going on, I recommend reading the notebook side by side with your copy of the book.**\n",
        "\n",
        "This notebook was generated for TensorFlow 2.6."
      ]
    },
    {
      "cell_type": "markdown",
      "metadata": {
        "id": "gN92WiQEwzdB"
      },
      "source": [
        "# Fundamentals of machine learning"
      ]
    },
    {
      "cell_type": "markdown",
      "metadata": {
        "id": "YVtuURLXwzdC"
      },
      "source": [
        "## Generalization: The goal of machine learning"
      ]
    },
    {
      "cell_type": "markdown",
      "metadata": {
        "id": "A004K06xwzdD"
      },
      "source": [
        "### Underfitting and overfitting"
      ]
    },
    {
      "cell_type": "code",
      "source": [
        "from tensorflow.keras.datasets import mnist\n",
        "import numpy as np\n",
        "\n",
        "(train_images, train_labels), _ = mnist.load_data()\n",
        "train_images = train_images.reshape((60000, 28 * 28))\n",
        "train_images = train_images.astype(\"float32\") / 255\n",
        "\n",
        "train_images_with_noise_channels = np.concatenate(\n",
        "    [train_images, np.random.random((len(train_images), 784))], axis=1)"
      ],
      "metadata": {
        "id": "odEJqNm-yKHH"
      },
      "execution_count": 11,
      "outputs": []
    },
    {
      "cell_type": "code",
      "source": [
        "from tensorflow.keras.datasets import mnist\n",
        "import numpy as np\n",
        "\n",
        "(train_images, train_labels), _ = mnist.load_data()\n",
        "train_images = train_images.reshape((60000, 28 * 28))\n",
        "train_images = train_images.astype(\"float32\") / 255\n",
        "\n",
        "train_images_origin = train_images\n",
        "\n",
        "train_images_with_zeros_channels = np.concatenate(\n",
        "    [train_images, np.zeros((len(train_images), 784))], axis=1)"
      ],
      "metadata": {
        "id": "DRsHvBnqyKtO"
      },
      "execution_count": 12,
      "outputs": []
    },
    {
      "cell_type": "code",
      "source": [
        "from tensorflow import keras\n",
        "from tensorflow.keras import layers\n",
        "\n",
        "def get_model():\n",
        "    model = keras.Sequential([\n",
        "        layers.Dense(512, activation=\"relu\"),\n",
        "        layers.Dense(10, activation=\"softmax\")\n",
        "    ])\n",
        "    model.compile(optimizer=\"rmsprop\",\n",
        "                  loss=\"sparse_categorical_crossentropy\",\n",
        "                  metrics=[\"accuracy\"])\n",
        "    return model\n",
        "\n",
        "model = get_model()\n",
        "history_noise = model.fit(\n",
        "    train_images_with_noise_channels, train_labels,\n",
        "    epochs=10,\n",
        "    batch_size=128,\n",
        "    validation_split=0.2)\n",
        "\n",
        "model = get_model()\n",
        "history_zeros = model.fit(\n",
        "    train_images_with_zeros_channels, train_labels,\n",
        "    epochs=10,\n",
        "    batch_size=128,\n",
        "    validation_split=0.2)\n",
        "\n",
        "model = get_model()\n",
        "history_origin = model.fit(\n",
        "    train_images, train_labels,\n",
        "    epochs=10,\n",
        "    batch_size=128,\n",
        "    validation_split=0.2)"
      ],
      "metadata": {
        "colab": {
          "base_uri": "https://localhost:8080/"
        },
        "id": "Ko-_8IvKygO-",
        "outputId": "75c613cf-b28d-4780-98d2-ca67c6164d1f"
      },
      "execution_count": 13,
      "outputs": [
        {
          "output_type": "stream",
          "name": "stdout",
          "text": [
            "Epoch 1/10\n",
            "375/375 [==============================] - 3s 5ms/step - loss: 0.6172 - accuracy: 0.8130 - val_loss: 0.3948 - val_accuracy: 0.8788\n",
            "Epoch 2/10\n",
            "375/375 [==============================] - 1s 3ms/step - loss: 0.2500 - accuracy: 0.9225 - val_loss: 0.1986 - val_accuracy: 0.9389\n",
            "Epoch 3/10\n",
            "375/375 [==============================] - 1s 3ms/step - loss: 0.1623 - accuracy: 0.9500 - val_loss: 0.1368 - val_accuracy: 0.9613\n",
            "Epoch 4/10\n",
            "375/375 [==============================] - 1s 3ms/step - loss: 0.1159 - accuracy: 0.9632 - val_loss: 0.1216 - val_accuracy: 0.9641\n",
            "Epoch 5/10\n",
            "375/375 [==============================] - 2s 4ms/step - loss: 0.0832 - accuracy: 0.9738 - val_loss: 0.1390 - val_accuracy: 0.9600\n",
            "Epoch 6/10\n",
            "375/375 [==============================] - 2s 4ms/step - loss: 0.0637 - accuracy: 0.9797 - val_loss: 0.1182 - val_accuracy: 0.9678\n",
            "Epoch 7/10\n",
            "375/375 [==============================] - 2s 5ms/step - loss: 0.0456 - accuracy: 0.9857 - val_loss: 0.1259 - val_accuracy: 0.9677\n",
            "Epoch 8/10\n",
            "375/375 [==============================] - 1s 3ms/step - loss: 0.0332 - accuracy: 0.9894 - val_loss: 0.1826 - val_accuracy: 0.9461\n",
            "Epoch 9/10\n",
            "375/375 [==============================] - 1s 3ms/step - loss: 0.0261 - accuracy: 0.9915 - val_loss: 0.1328 - val_accuracy: 0.9675\n",
            "Epoch 10/10\n",
            "375/375 [==============================] - 1s 3ms/step - loss: 0.0175 - accuracy: 0.9947 - val_loss: 0.1248 - val_accuracy: 0.9690\n",
            "Epoch 1/10\n",
            "375/375 [==============================] - 2s 4ms/step - loss: 0.2936 - accuracy: 0.9167 - val_loss: 0.1528 - val_accuracy: 0.9563\n",
            "Epoch 2/10\n",
            "375/375 [==============================] - 1s 4ms/step - loss: 0.1235 - accuracy: 0.9639 - val_loss: 0.1034 - val_accuracy: 0.9697\n",
            "Epoch 3/10\n",
            "375/375 [==============================] - 2s 5ms/step - loss: 0.0798 - accuracy: 0.9768 - val_loss: 0.0918 - val_accuracy: 0.9733\n",
            "Epoch 4/10\n",
            "375/375 [==============================] - 2s 4ms/step - loss: 0.0582 - accuracy: 0.9827 - val_loss: 0.0772 - val_accuracy: 0.9772\n",
            "Epoch 5/10\n",
            "375/375 [==============================] - 1s 3ms/step - loss: 0.0434 - accuracy: 0.9877 - val_loss: 0.0785 - val_accuracy: 0.9777\n",
            "Epoch 6/10\n",
            "375/375 [==============================] - 1s 4ms/step - loss: 0.0326 - accuracy: 0.9907 - val_loss: 0.0740 - val_accuracy: 0.9794\n",
            "Epoch 7/10\n",
            "375/375 [==============================] - 1s 4ms/step - loss: 0.0243 - accuracy: 0.9932 - val_loss: 0.0715 - val_accuracy: 0.9803\n",
            "Epoch 8/10\n",
            "375/375 [==============================] - 1s 3ms/step - loss: 0.0188 - accuracy: 0.9949 - val_loss: 0.0773 - val_accuracy: 0.9787\n",
            "Epoch 9/10\n",
            "375/375 [==============================] - 2s 5ms/step - loss: 0.0136 - accuracy: 0.9968 - val_loss: 0.0727 - val_accuracy: 0.9801\n",
            "Epoch 10/10\n",
            "375/375 [==============================] - 2s 4ms/step - loss: 0.0102 - accuracy: 0.9977 - val_loss: 0.0784 - val_accuracy: 0.9788\n",
            "Epoch 1/10\n",
            "375/375 [==============================] - 4s 7ms/step - loss: 0.2978 - accuracy: 0.9153 - val_loss: 0.1556 - val_accuracy: 0.9552\n",
            "Epoch 2/10\n",
            "375/375 [==============================] - 2s 5ms/step - loss: 0.1237 - accuracy: 0.9641 - val_loss: 0.1038 - val_accuracy: 0.9697\n",
            "Epoch 3/10\n",
            "375/375 [==============================] - 2s 6ms/step - loss: 0.0803 - accuracy: 0.9764 - val_loss: 0.0859 - val_accuracy: 0.9735\n",
            "Epoch 4/10\n",
            "375/375 [==============================] - 2s 6ms/step - loss: 0.0588 - accuracy: 0.9827 - val_loss: 0.0772 - val_accuracy: 0.9767\n",
            "Epoch 5/10\n",
            "375/375 [==============================] - 1s 4ms/step - loss: 0.0434 - accuracy: 0.9873 - val_loss: 0.0819 - val_accuracy: 0.9753\n",
            "Epoch 6/10\n",
            "375/375 [==============================] - 1s 4ms/step - loss: 0.0330 - accuracy: 0.9904 - val_loss: 0.0780 - val_accuracy: 0.9770\n",
            "Epoch 7/10\n",
            "375/375 [==============================] - 2s 4ms/step - loss: 0.0248 - accuracy: 0.9931 - val_loss: 0.0744 - val_accuracy: 0.9798\n",
            "Epoch 8/10\n",
            "375/375 [==============================] - 2s 6ms/step - loss: 0.0190 - accuracy: 0.9949 - val_loss: 0.0726 - val_accuracy: 0.9791\n",
            "Epoch 9/10\n",
            "375/375 [==============================] - 1s 3ms/step - loss: 0.0140 - accuracy: 0.9964 - val_loss: 0.0703 - val_accuracy: 0.9798\n",
            "Epoch 10/10\n",
            "375/375 [==============================] - 1s 3ms/step - loss: 0.0101 - accuracy: 0.9978 - val_loss: 0.0774 - val_accuracy: 0.9787\n"
          ]
        }
      ]
    },
    {
      "cell_type": "code",
      "source": [
        "import matplotlib.pyplot as plt\n",
        "val_acc_origin  = history_origin.history[\"val_accuracy\"]\n",
        "val_acc_noise = history_noise.history[\"val_accuracy\"]\n",
        "val_acc_zeros = history_zeros.history[\"val_accuracy\"]\n",
        "epochs = range(1, 11)\n",
        "plt.plot(epochs, val_acc_origin, \"g-\",\n",
        "         label=\"Validation accuracy with origin chnnels\")\n",
        "plt.plot(epochs, val_acc_noise, \"b-\",\n",
        "         label=\"Validation accuracy with noise channels\")\n",
        "plt.plot(epochs, val_acc_zeros, \"b--\",\n",
        "         label=\"Validation accuracy with zeros channels\")\n",
        "plt.title(\"Effect of noise channels on validation accuracy\")\n",
        "plt.xlabel(\"Epochs\")\n",
        "plt.ylabel(\"Accuracy\")\n",
        "plt.legend()"
      ],
      "metadata": {
        "colab": {
          "base_uri": "https://localhost:8080/",
          "height": 491
        },
        "id": "TGQyr_NHy8yu",
        "outputId": "7eae7893-e30d-459d-8914-27c93a4f6108"
      },
      "execution_count": 14,
      "outputs": [
        {
          "output_type": "execute_result",
          "data": {
            "text/plain": [
              "<matplotlib.legend.Legend at 0x7f64b94f31f0>"
            ]
          },
          "metadata": {},
          "execution_count": 14
        },
        {
          "output_type": "display_data",
          "data": {
            "text/plain": [
              "<Figure size 640x480 with 1 Axes>"
            ],
            "image/png": "[encoded data removed]"
          },
          "metadata": {}
        }
      ]
    },
    {
      "cell_type": "code",
      "source": [
        "from tensorflow.keras.datasets import mnist\n",
        "import numpy as np\n",
        "\n",
        "(train_images, train_labels), _ = mnist.load_data()\n",
        "train_images = train_images.reshape((60000, 28 * 28))\n",
        "train_images = train_images.astype(\"float32\") / 255\n",
        "\n",
        "\n",
        "random_train_labels = train_labels[:]\n",
        "np.random.shuffle(random_train_labels)\n",
        "\n",
        "model = keras.Sequential([\n",
        "    layers.Dense(512, activation=\"relu\"),\n",
        "    layers.Dense(10, activation=\"softmax\")\n",
        "])\n",
        "model.compile(optimizer=\"rmsprop\",\n",
        "              loss=\"sparse_categorical_crossentropy\",\n",
        "              metrics=[\"accuracy\"])\n",
        "model.fit(train_images, random_train_labels,\n",
        "          epochs=10,\n",
        "          batch_size=128,\n",
        "          validation_split=0.2)\n"
      ],
      "metadata": {
        "id": "26Nwq5RV2TlF"
      },
      "execution_count": null,
      "outputs": []
    },
    {
      "cell_type": "markdown",
      "metadata": {
        "id": "BRUGBYAvwzdE"
      },
      "source": [
        "#### Noisy training data"
      ]
    },
    {
      "cell_type": "markdown",
      "metadata": {
        "id": "M5p6jFrVwzdE"
      },
      "source": [
        "#### Ambiguous features"
      ]
    },
    {
      "cell_type": "markdown",
      "metadata": {
        "id": "1_Re5aY5wzdE"
      },
      "source": [
        "#### Rare features and spurious correlations"
      ]
    },
    {
      "cell_type": "markdown",
      "metadata": {
        "id": "0Jp2nBgMwzdF"
      },
      "source": [
        "**Adding white-noise channels or all-zeros channels to MNIST**"
      ]
    },
    {
      "cell_type": "code",
      "execution_count": null,
      "metadata": {
        "id": "T5TQ9hyKwzdG"
      },
      "outputs": [],
      "source": [
        "from tensorflow.keras.datasets import mnist\n",
        "import numpy as np\n",
        "\n",
        "(train_images, train_labels), _ = mnist.load_data()\n",
        "train_images = train_images.reshape((60000, 28 * 28))\n",
        "train_images = train_images.astype(\"float32\") / 255\n",
        "\n",
        "train_images_with_noise_channels = np.concatenate(\n",
        "    [train_images, np.random.random((len(train_images), 784))], axis=1)\n",
        "\n",
        "train_images_with_zeros_channels = np.concatenate(\n",
        "    [train_images, np.zeros((len(train_images), 784))], axis=1)"
      ]
    },
    {
      "cell_type": "markdown",
      "metadata": {
        "id": "8DUeCbh-wzdI"
      },
      "source": [
        "**Training the same model on MNIST data with noise channels or all-zero channels**"
      ]
    },
    {
      "cell_type": "code",
      "execution_count": null,
      "metadata": {
        "id": "1KFfMvfxwzdJ"
      },
      "outputs": [],
      "source": [
        "from tensorflow import keras\n",
        "from tensorflow.keras import layers\n",
        "\n",
        "def get_model():\n",
        "    model = keras.Sequential([\n",
        "        layers.Dense(512, activation=\"relu\"),\n",
        "        layers.Dense(10, activation=\"softmax\")\n",
        "    ])\n",
        "    model.compile(optimizer=\"rmsprop\",\n",
        "                  loss=\"sparse_categorical_crossentropy\",\n",
        "                  metrics=[\"accuracy\"])\n",
        "    return model\n",
        "\n",
        "model = get_model()\n",
        "history_noise = model.fit(\n",
        "    train_images_with_noise_channels, train_labels,\n",
        "    epochs=10,\n",
        "    batch_size=128,\n",
        "    validation_split=0.2)\n",
        "\n",
        "model = get_model()\n",
        "history_zeros = model.fit(\n",
        "    train_images_with_zeros_channels, train_labels,\n",
        "    epochs=10,\n",
        "    batch_size=128,\n",
        "    validation_split=0.2)"
      ]
    },
    {
      "cell_type": "markdown",
      "metadata": {
        "id": "8aZkmXbcwzdK"
      },
      "source": [
        "**Plotting a validation accuracy comparison**"
      ]
    },
    {
      "cell_type": "code",
      "execution_count": null,
      "metadata": {
        "id": "orpLzDuMwzdL"
      },
      "outputs": [],
      "source": [
        "import matplotlib.pyplot as plt\n",
        "val_acc_noise = history_noise.history[\"val_accuracy\"]\n",
        "val_acc_zeros = history_zeros.history[\"val_accuracy\"]\n",
        "epochs = range(1, 11)\n",
        "plt.plot(epochs, val_acc_noise, \"b-\",\n",
        "         label=\"Validation accuracy with noise channels\")\n",
        "plt.plot(epochs, val_acc_zeros, \"b--\",\n",
        "         label=\"Validation accuracy with zeros channels\")\n",
        "plt.title(\"Effect of noise channels on validation accuracy\")\n",
        "plt.xlabel(\"Epochs\")\n",
        "plt.ylabel(\"Accuracy\")\n",
        "plt.legend()"
      ]
    },
    {
      "cell_type": "markdown",
      "metadata": {
        "id": "dCCbaZIQwzdL"
      },
      "source": [
        "### The nature of generalization in deep learning"
      ]
    },
    {
      "cell_type": "markdown",
      "metadata": {
        "id": "qvVcpMlvwzdM"
      },
      "source": [
        "**Fitting a MNIST model with randomly shuffled labels**"
      ]
    },
    {
      "cell_type": "code",
      "execution_count": 26,
      "metadata": {
        "colab": {
          "base_uri": "https://localhost:8080/"
        },
        "id": "AsSRoQxxwzdM",
        "outputId": "9c8af299-44d6-46b6-9db1-b37965d0adba"
      },
      "outputs": [
        {
          "output_type": "stream",
          "name": "stdout",
          "text": [
            "Epoch 1/20\n",
            "391/391 [==============================] - 2s 4ms/step - loss: 2.3068 - accuracy: 0.1066 - val_loss: 2.3039 - val_accuracy: 0.1073\n",
            "Epoch 2/20\n",
            "391/391 [==============================] - 1s 3ms/step - loss: 2.3010 - accuracy: 0.1142 - val_loss: 2.3058 - val_accuracy: 0.1065\n",
            "Epoch 3/20\n",
            "391/391 [==============================] - 3s 7ms/step - loss: 2.2983 - accuracy: 0.1183 - val_loss: 2.3071 - val_accuracy: 0.1085\n",
            "Epoch 4/20\n",
            "391/391 [==============================] - 2s 4ms/step - loss: 2.2952 - accuracy: 0.1209 - val_loss: 2.3087 - val_accuracy: 0.1072\n",
            "Epoch 5/20\n",
            "391/391 [==============================] - 1s 4ms/step - loss: 2.2911 - accuracy: 0.1240 - val_loss: 2.3105 - val_accuracy: 0.1040\n",
            "Epoch 6/20\n",
            "391/391 [==============================] - 1s 3ms/step - loss: 2.2869 - accuracy: 0.1270 - val_loss: 2.3158 - val_accuracy: 0.1068\n",
            "Epoch 7/20\n",
            "391/391 [==============================] - 2s 4ms/step - loss: 2.2816 - accuracy: 0.1303 - val_loss: 2.3190 - val_accuracy: 0.1042\n",
            "Epoch 8/20\n",
            "391/391 [==============================] - 1s 4ms/step - loss: 2.2761 - accuracy: 0.1369 - val_loss: 2.3213 - val_accuracy: 0.1043\n",
            "Epoch 9/20\n",
            "391/391 [==============================] - 1s 3ms/step - loss: 2.2707 - accuracy: 0.1423 - val_loss: 2.3283 - val_accuracy: 0.1055\n",
            "Epoch 10/20\n",
            "391/391 [==============================] - 1s 4ms/step - loss: 2.2643 - accuracy: 0.1457 - val_loss: 2.3347 - val_accuracy: 0.1034\n",
            "Epoch 11/20\n",
            "391/391 [==============================] - 2s 5ms/step - loss: 2.2579 - accuracy: 0.1519 - val_loss: 2.3327 - val_accuracy: 0.1036\n",
            "Epoch 12/20\n",
            "391/391 [==============================] - 1s 3ms/step - loss: 2.2509 - accuracy: 0.1540 - val_loss: 2.3471 - val_accuracy: 0.1024\n",
            "Epoch 13/20\n",
            "391/391 [==============================] - 1s 3ms/step - loss: 2.2447 - accuracy: 0.1605 - val_loss: 2.3448 - val_accuracy: 0.1065\n",
            "Epoch 14/20\n",
            "391/391 [==============================] - 1s 4ms/step - loss: 2.2382 - accuracy: 0.1641 - val_loss: 2.3509 - val_accuracy: 0.1035\n",
            "Epoch 15/20\n",
            "391/391 [==============================] - 1s 4ms/step - loss: 2.2311 - accuracy: 0.1662 - val_loss: 2.3589 - val_accuracy: 0.1062\n",
            "Epoch 16/20\n",
            "391/391 [==============================] - 1s 3ms/step - loss: 2.2250 - accuracy: 0.1720 - val_loss: 2.3700 - val_accuracy: 0.1029\n",
            "Epoch 17/20\n",
            "391/391 [==============================] - 1s 4ms/step - loss: 2.2185 - accuracy: 0.1764 - val_loss: 2.3712 - val_accuracy: 0.1055\n",
            "Epoch 18/20\n",
            "391/391 [==============================] - 1s 3ms/step - loss: 2.2132 - accuracy: 0.1767 - val_loss: 2.3720 - val_accuracy: 0.1072\n",
            "Epoch 19/20\n",
            "391/391 [==============================] - 2s 5ms/step - loss: 2.2068 - accuracy: 0.1806 - val_loss: 2.3808 - val_accuracy: 0.1016\n",
            "Epoch 20/20\n",
            "391/391 [==============================] - 2s 4ms/step - loss: 2.2005 - accuracy: 0.1848 - val_loss: 2.3874 - val_accuracy: 0.1078\n"
          ]
        }
      ],
      "source": [
        "(train_images, train_labels), _ = mnist.load_data()\n",
        "train_images = train_images.reshape((60000, 28 * 28))\n",
        "train_images = train_images.astype(\"float32\") / 255\n",
        "\n",
        "random_train_labels_x = train_images[:50000]\n",
        "random_train_labels_y = train_labels[:50000]\n",
        "\n",
        "random_test_labels_x = train_images[50000:]\n",
        "random_test_labels_y = train_labels[50000:]\n",
        "\n",
        "np.random.shuffle(random_train_labels_x)\n",
        "np.random.shuffle(random_train_labels_y)\n",
        "np.random.shuffle(random_test_labels_x)\n",
        "np.random.shuffle(random_test_labels_y)\n",
        "\n",
        "\n",
        "model = keras.Sequential([\n",
        "    layers.Dense(64, activation=\"relu\"),\n",
        "    layers.Dense(10, activation=\"softmax\")\n",
        "])\n",
        "model.compile(optimizer=\"rmsprop\",\n",
        "              loss=\"sparse_categorical_crossentropy\",\n",
        "              metrics=[\"accuracy\"])\n",
        "\n",
        "history = model.fit(random_train_labels_x,\n",
        "                    random_train_labels_y,\n",
        "                    epochs=20,\n",
        "                    batch_size=128,\n",
        "                    validation_data=(random_test_labels_x, random_test_labels_y))\n",
        "\n"
      ]
    },
    {
      "cell_type": "code",
      "source": [
        "history_dict = history.history\n",
        "history_dict.keys()"
      ],
      "metadata": {
        "colab": {
          "base_uri": "https://localhost:8080/"
        },
        "id": "2_ZcggJ65-ff",
        "outputId": "ead573ef-6de8-495e-f115-393efe9a16be"
      },
      "execution_count": 23,
      "outputs": [
        {
          "output_type": "execute_result",
          "data": {
            "text/plain": [
              "dict_keys(['loss', 'accuracy', 'val_loss', 'val_accuracy'])"
            ]
          },
          "metadata": {},
          "execution_count": 23
        }
      ]
    },
    {
      "cell_type": "code",
      "source": [
        "import matplotlib.pyplot as plt\n",
        "history_dict = history.history\n",
        "acc_values = history_dict[\"accuracy\"]\n",
        "val_acc_values = history_dict[\"val_accuracy\"]\n",
        "epochs = range(1, len(acc_values) + 1)\n",
        "plt.plot(epochs, acc_values, \"bo\", label=\"Training acc\")\n",
        "plt.plot(epochs, val_acc_values, \"b\", label=\"Validation acc\")\n",
        "plt.title(\"Training and validation acc\")\n",
        "plt.xlabel(\"Epochs\")\n",
        "plt.ylabel(\"Loss\")\n",
        "plt.legend()\n",
        "plt.show()\n"
      ],
      "metadata": {
        "colab": {
          "base_uri": "https://localhost:8080/",
          "height": 472
        },
        "id": "Je3JK9tX52lJ",
        "outputId": "de9e78b3-d0d8-4685-e0b6-ee9f355890cc"
      },
      "execution_count": 27,
      "outputs": [
        {
          "output_type": "display_data",
          "data": {
            "text/plain": [
              "<Figure size 640x480 with 1 Axes>"
            ],
            "image/png": "[encoded data removed]"
          },
          "metadata": {}
        }
      ]
    },
    {
      "cell_type": "markdown",
      "metadata": {
        "id": "rCFBG2J5wzdN"
      },
      "source": [
        "#### The manifold hypothesis"
      ]
    },
    {
      "cell_type": "markdown",
      "metadata": {
        "id": "LGUuskeQwzdN"
      },
      "source": [
        "#### Interpolation as a source of generalization"
      ]
    },
    {
      "cell_type": "markdown",
      "metadata": {
        "id": "lGp1DA2twzdO"
      },
      "source": [
        "#### Why deep learning works"
      ]
    },
    {
      "cell_type": "markdown",
      "metadata": {
        "id": "wbRRFE33wzdP"
      },
      "source": [
        "#### Training data is paramount"
      ]
    },
    {
      "cell_type": "markdown",
      "metadata": {
        "id": "A71gAS5WwzdP"
      },
      "source": [
        "## Evaluating machine-learning models"
      ]
    },
    {
      "cell_type": "markdown",
      "metadata": {
        "id": "3hIwWJZZwzdQ"
      },
      "source": [
        "### Training, validation, and test sets"
      ]
    },
    {
      "cell_type": "markdown",
      "metadata": {
        "id": "zdtkv4CCwzdQ"
      },
      "source": [
        "#### Simple hold-out validation"
      ]
    },
    {
      "cell_type": "markdown",
      "metadata": {
        "id": "db-EyehCwzdR"
      },
      "source": [
        "#### K-fold validation"
      ]
    },
    {
      "cell_type": "markdown",
      "metadata": {
        "id": "uJjElwkkwzdR"
      },
      "source": [
        "#### Iterated K-fold validation with shuffling"
      ]
    },
    {
      "cell_type": "markdown",
      "metadata": {
        "id": "JwQECosLwzdR"
      },
      "source": [
        "### Beating a common-sense baseline"
      ]
    },
    {
      "cell_type": "markdown",
      "metadata": {
        "id": "_rH-08zPwzdS"
      },
      "source": [
        "### Things to keep in mind about model evaluation"
      ]
    },
    {
      "cell_type": "markdown",
      "metadata": {
        "id": "7BZlHDG6wzdS"
      },
      "source": [
        "## Improving model fit"
      ]
    },
    {
      "cell_type": "markdown",
      "metadata": {
        "id": "PmLnDOWcwzdT"
      },
      "source": [
        "### Tuning key gradient descent parameters"
      ]
    },
    {
      "cell_type": "markdown",
      "metadata": {
        "id": "zTXKKbhLwzdT"
      },
      "source": [
        "**Training a MNIST model with an incorrectly high learning rate**"
      ]
    },
    {
      "cell_type": "code",
      "execution_count": 64,
      "metadata": {
        "colab": {
          "base_uri": "https://localhost:8080/"
        },
        "id": "gfkI920IwzdU",
        "outputId": "e1a09c20-2731-471b-c2eb-6f1e99c57880"
      },
      "outputs": [
        {
          "output_type": "stream",
          "name": "stdout",
          "text": [
            "Epoch 1/10\n",
            "375/375 [==============================] - 3s 5ms/step - loss: 7.5196 - accuracy: 0.8109 - val_loss: 1.0694 - val_accuracy: 0.8677\n",
            "Epoch 2/10\n",
            "375/375 [==============================] - 1s 4ms/step - loss: 0.6396 - accuracy: 0.8799 - val_loss: 0.5552 - val_accuracy: 0.9007\n",
            "Epoch 3/10\n",
            "375/375 [==============================] - 1s 3ms/step - loss: 0.5779 - accuracy: 0.8898 - val_loss: 0.5617 - val_accuracy: 0.8982\n",
            "Epoch 4/10\n",
            "375/375 [==============================] - 1s 3ms/step - loss: 0.5516 - accuracy: 0.8935 - val_loss: 0.5496 - val_accuracy: 0.8913\n",
            "Epoch 5/10\n",
            "375/375 [==============================] - 1s 3ms/step - loss: 0.5281 - accuracy: 0.9003 - val_loss: 0.5542 - val_accuracy: 0.9038\n",
            "Epoch 6/10\n",
            "375/375 [==============================] - 1s 3ms/step - loss: 0.5111 - accuracy: 0.9049 - val_loss: 0.5525 - val_accuracy: 0.8905\n",
            "Epoch 7/10\n",
            "375/375 [==============================] - 1s 3ms/step - loss: 0.4960 - accuracy: 0.9086 - val_loss: 1.0795 - val_accuracy: 0.8278\n",
            "Epoch 8/10\n",
            "375/375 [==============================] - 1s 3ms/step - loss: 0.4613 - accuracy: 0.9120 - val_loss: 0.8938 - val_accuracy: 0.9095\n",
            "Epoch 9/10\n",
            "375/375 [==============================] - 1s 4ms/step - loss: 0.4639 - accuracy: 0.9175 - val_loss: 0.6153 - val_accuracy: 0.9076\n",
            "Epoch 10/10\n",
            "375/375 [==============================] - 2s 5ms/step - loss: 0.4559 - accuracy: 0.9192 - val_loss: 0.5060 - val_accuracy: 0.9166\n"
          ]
        },
        {
          "output_type": "execute_result",
          "data": {
            "text/plain": [
              "<keras.callbacks.History at 0x7f64b83a4eb0>"
            ]
          },
          "metadata": {},
          "execution_count": 64
        }
      ],
      "source": [
        "(train_images, train_labels), _ = mnist.load_data()\n",
        "train_images = train_images.reshape((60000, 28 * 28))\n",
        "train_images = train_images.astype(\"float32\") / 255\n",
        "\n",
        "model = keras.Sequential([\n",
        "    layers.Dense(512, activation=\"relu\"),\n",
        "    layers.Dense(10, activation=\"softmax\")\n",
        "])\n",
        "model.compile(optimizer=keras.optimizers.RMSprop(0.1),\n",
        "              loss=\"sparse_categorical_crossentropy\",\n",
        "              metrics=[\"accuracy\"])\n",
        "\n",
        "model.fit(train_images, train_labels,\n",
        "          epochs=10,\n",
        "          batch_size=128,\n",
        "          validation_split=0.2)"
      ]
    },
    {
      "cell_type": "markdown",
      "metadata": {
        "id": "FbiLGGQVwzdU"
      },
      "source": [
        "**The same model with a more appropriate learning rate**"
      ]
    },
    {
      "cell_type": "code",
      "execution_count": 29,
      "metadata": {
        "colab": {
          "base_uri": "https://localhost:8080/"
        },
        "id": "aFhtsxiPwzdU",
        "outputId": "4f87375b-03f0-4437-e5aa-ecca6f68aa39"
      },
      "outputs": [
        {
          "output_type": "stream",
          "name": "stdout",
          "text": [
            "Epoch 1/10\n",
            "375/375 [==============================] - 2s 4ms/step - loss: 0.3728 - accuracy: 0.9114 - val_loss: 0.1924 - val_accuracy: 0.9478\n",
            "Epoch 2/10\n",
            "375/375 [==============================] - 2s 4ms/step - loss: 0.1289 - accuracy: 0.9649 - val_loss: 0.1330 - val_accuracy: 0.9660\n",
            "Epoch 3/10\n",
            "375/375 [==============================] - 1s 4ms/step - loss: 0.0984 - accuracy: 0.9740 - val_loss: 0.1442 - val_accuracy: 0.9689\n",
            "Epoch 4/10\n",
            "375/375 [==============================] - 1s 3ms/step - loss: 0.0837 - accuracy: 0.9790 - val_loss: 0.1644 - val_accuracy: 0.9667\n",
            "Epoch 5/10\n",
            "375/375 [==============================] - 1s 3ms/step - loss: 0.0721 - accuracy: 0.9823 - val_loss: 0.1895 - val_accuracy: 0.9678\n",
            "Epoch 6/10\n",
            "375/375 [==============================] - 1s 3ms/step - loss: 0.0657 - accuracy: 0.9842 - val_loss: 0.1771 - val_accuracy: 0.9723\n",
            "Epoch 7/10\n",
            "375/375 [==============================] - 1s 3ms/step - loss: 0.0568 - accuracy: 0.9870 - val_loss: 0.1892 - val_accuracy: 0.9743\n",
            "Epoch 8/10\n",
            "375/375 [==============================] - 1s 3ms/step - loss: 0.0489 - accuracy: 0.9886 - val_loss: 0.2299 - val_accuracy: 0.9700\n",
            "Epoch 9/10\n",
            "375/375 [==============================] - 1s 4ms/step - loss: 0.0380 - accuracy: 0.9909 - val_loss: 0.2182 - val_accuracy: 0.9722\n",
            "Epoch 10/10\n",
            "375/375 [==============================] - 1s 3ms/step - loss: 0.0392 - accuracy: 0.9913 - val_loss: 0.2210 - val_accuracy: 0.9739\n"
          ]
        },
        {
          "output_type": "execute_result",
          "data": {
            "text/plain": [
              "<keras.callbacks.History at 0x7f64b85660a0>"
            ]
          },
          "metadata": {},
          "execution_count": 29
        }
      ],
      "source": [
        "model = keras.Sequential([\n",
        "    layers.Dense(512, activation=\"relu\"),\n",
        "    layers.Dense(10, activation=\"softmax\")\n",
        "])\n",
        "model.compile(optimizer=keras.optimizers.RMSprop(1e-2),\n",
        "              loss=\"sparse_categorical_crossentropy\",\n",
        "              metrics=[\"accuracy\"])\n",
        "model.fit(train_images, train_labels,\n",
        "          epochs=10,\n",
        "          batch_size=128,\n",
        "          validation_split=0.2)"
      ]
    },
    {
      "cell_type": "markdown",
      "metadata": {
        "id": "TqSCD7xUwzdV"
      },
      "source": [
        "### Leveraging better architecture priors"
      ]
    },
    {
      "cell_type": "markdown",
      "metadata": {
        "id": "_TUQTpfpwzdV"
      },
      "source": [
        "### Increasing model capacity"
      ]
    },
    {
      "cell_type": "markdown",
      "metadata": {
        "id": "9yxmo5YDwzdW"
      },
      "source": [
        "**A simple logistic regression on MNIST**"
      ]
    },
    {
      "cell_type": "code",
      "execution_count": null,
      "metadata": {
        "id": "0ODkT8VRwzdW"
      },
      "outputs": [],
      "source": [
        "model = keras.Sequential([layers.Dense(10, activation=\"softmax\")])\n",
        "model.compile(optimizer=\"rmsprop\",\n",
        "              loss=\"sparse_categorical_crossentropy\",\n",
        "              metrics=[\"accuracy\"])\n",
        "history_small_model = model.fit(\n",
        "    train_images, train_labels,\n",
        "    epochs=20,\n",
        "    batch_size=128,\n",
        "    validation_split=0.2)"
      ]
    },
    {
      "cell_type": "code",
      "execution_count": null,
      "metadata": {
        "id": "1Z6tLKY0wzdX"
      },
      "outputs": [],
      "source": [
        "import matplotlib.pyplot as plt\n",
        "val_loss = history_small_model.history[\"val_loss\"]\n",
        "epochs = range(1, 21)\n",
        "plt.plot(epochs, val_loss, \"b--\",\n",
        "         label=\"Validation loss\")\n",
        "plt.title(\"Effect of insufficient model capacity on validation loss\")\n",
        "plt.xlabel(\"Epochs\")\n",
        "plt.ylabel(\"Loss\")\n",
        "plt.legend()"
      ]
    },
    {
      "cell_type": "code",
      "execution_count": null,
      "metadata": {
        "id": "1eUg7Q1wwzdY"
      },
      "outputs": [],
      "source": [
        "model = keras.Sequential([\n",
        "    layers.Dense(96, activation=\"relu\"),\n",
        "    layers.Dense(96, activation=\"relu\"),\n",
        "    layers.Dense(10, activation=\"softmax\"),\n",
        "])\n",
        "model.compile(optimizer=\"rmsprop\",\n",
        "              loss=\"sparse_categorical_crossentropy\",\n",
        "              metrics=[\"accuracy\"])\n",
        "history_large_model = model.fit(\n",
        "    train_images, train_labels,\n",
        "    epochs=20,\n",
        "    batch_size=128,\n",
        "    validation_split=0.2)"
      ]
    },
    {
      "cell_type": "markdown",
      "metadata": {
        "id": "gs1zL2mKwzdZ"
      },
      "source": [
        "## Improving generalization"
      ]
    },
    {
      "cell_type": "markdown",
      "metadata": {
        "id": "_qNrSWY8wzda"
      },
      "source": [
        "### Dataset curation"
      ]
    },
    {
      "cell_type": "markdown",
      "metadata": {
        "id": "mp_unKoxwzda"
      },
      "source": [
        "### Feature engineering"
      ]
    },
    {
      "cell_type": "markdown",
      "metadata": {
        "id": "noyWbd0Pwzdb"
      },
      "source": [
        "### Using early stopping"
      ]
    },
    {
      "cell_type": "markdown",
      "metadata": {
        "id": "RinUzhk7wzdb"
      },
      "source": [
        "### Regularizing your model"
      ]
    },
    {
      "cell_type": "markdown",
      "metadata": {
        "id": "dZcCb5V8wzdc"
      },
      "source": [
        "#### Reducing the network's size"
      ]
    },
    {
      "cell_type": "markdown",
      "metadata": {
        "id": "xw1-GkJowzdc"
      },
      "source": [
        "**Original model**"
      ]
    },
    {
      "cell_type": "code",
      "execution_count": null,
      "metadata": {
        "id": "FDXZaw2wwzdc"
      },
      "outputs": [],
      "source": [
        "from tensorflow.keras.datasets import imdb\n",
        "(train_data, train_labels), _ = imdb.load_data(num_words=10000)\n",
        "\n",
        "def vectorize_sequences(sequences, dimension=10000):\n",
        "    results = np.zeros((len(sequences), dimension))\n",
        "    for i, sequence in enumerate(sequences):\n",
        "        results[i, sequence] = 1.\n",
        "    return results\n",
        "train_data = vectorize_sequences(train_data)\n",
        "\n",
        "model = keras.Sequential([\n",
        "    layers.Dense(16, activation=\"relu\"),\n",
        "    layers.Dense(16, activation=\"relu\"),\n",
        "    layers.Dense(1, activation=\"sigmoid\")\n",
        "])\n",
        "model.compile(optimizer=\"rmsprop\",\n",
        "              loss=\"binary_crossentropy\",\n",
        "              metrics=[\"accuracy\"])\n",
        "history_original = model.fit(train_data, train_labels,\n",
        "                             epochs=20, batch_size=512, validation_split=0.4)"
      ]
    },
    {
      "cell_type": "markdown",
      "metadata": {
        "id": "WCLrc30zwzdd"
      },
      "source": [
        "**Version of the model with lower capacity**"
      ]
    },
    {
      "cell_type": "code",
      "execution_count": null,
      "metadata": {
        "id": "2-lqH328wzde"
      },
      "outputs": [],
      "source": [
        "model = keras.Sequential([\n",
        "    layers.Dense(4, activation=\"relu\"),\n",
        "    layers.Dense(4, activation=\"relu\"),\n",
        "    layers.Dense(1, activation=\"sigmoid\")\n",
        "])\n",
        "model.compile(optimizer=\"rmsprop\",\n",
        "              loss=\"binary_crossentropy\",\n",
        "              metrics=[\"accuracy\"])\n",
        "history_smaller_model = model.fit(\n",
        "    train_data, train_labels,\n",
        "    epochs=20, batch_size=512, validation_split=0.4)"
      ]
    },
    {
      "cell_type": "markdown",
      "metadata": {
        "id": "90MoxEogwzde"
      },
      "source": [
        "**Version of the model with higher capacity**"
      ]
    },
    {
      "cell_type": "code",
      "execution_count": null,
      "metadata": {
        "id": "_f-xFymfwzdf"
      },
      "outputs": [],
      "source": [
        "model = keras.Sequential([\n",
        "    layers.Dense(512, activation=\"relu\"),\n",
        "    layers.Dense(512, activation=\"relu\"),\n",
        "    layers.Dense(1, activation=\"sigmoid\")\n",
        "])\n",
        "model.compile(optimizer=\"rmsprop\",\n",
        "              loss=\"binary_crossentropy\",\n",
        "              metrics=[\"accuracy\"])\n",
        "history_larger_model = model.fit(\n",
        "    train_data, train_labels,\n",
        "    epochs=20, batch_size=512, validation_split=0.4)"
      ]
    },
    {
      "cell_type": "code",
      "source": [
        "import matplotlib.pyplot as plt\n",
        "val_loss_origin  = history_origin.history[\"val_loss\"]\n",
        "val_loss_larger = history_noise.history[\"val_loss\"]\n",
        "val_loss_smaller = history_zeros.history[\"val_loss\"]\n",
        "epochs = range(1, 11)\n",
        "plt.plot(epochs, val_loss_origin, \"g-\",\n",
        "         label=\"Validation loss with origin\")\n",
        "plt.plot(epochs, val_loss_larger, \"b-\",\n",
        "         label=\"Validation loss with larger\")\n",
        "plt.plot(epochs, val_loss_smaller, \"r-\",\n",
        "         label=\"Validation loss with smaller\")\n",
        "plt.title(\"Effect of size on validation loss\")\n",
        "plt.xlabel(\"Epochs\")\n",
        "plt.ylabel(\"Val_loss\")\n",
        "plt.legend()"
      ],
      "metadata": {
        "colab": {
          "base_uri": "https://localhost:8080/",
          "height": 491
        },
        "id": "QYeLX8mA8BVw",
        "outputId": "fd3e383b-5700-4fa5-9d6e-78794e3c1b9b"
      },
      "execution_count": 30,
      "outputs": [
        {
          "output_type": "execute_result",
          "data": {
            "text/plain": [
              "<matplotlib.legend.Legend at 0x7f64b82cb190>"
            ]
          },
          "metadata": {},
          "execution_count": 30
        },
        {
          "output_type": "display_data",
          "data": {
            "text/plain": [
              "<Figure size 640x480 with 1 Axes>"
            ],
            "image/png": "[encoded data removed]"
          },
          "metadata": {}
        }
      ]
    },
    {
      "cell_type": "markdown",
      "metadata": {
        "id": "dDWAstDQwzdg"
      },
      "source": [
        "#### Adding weight regularization"
      ]
    },
    {
      "cell_type": "markdown",
      "metadata": {
        "id": "pDqZ-XIZwzdg"
      },
      "source": [
        "**Adding L2 weight regularization to the model**"
      ]
    },
    {
      "cell_type": "code",
      "execution_count": null,
      "metadata": {
        "id": "wZzJuGAxwzdh"
      },
      "outputs": [],
      "source": [
        "from tensorflow.keras import regularizers\n",
        "model = keras.Sequential([\n",
        "    layers.Dense(16,\n",
        "                 kernel_regularizer=regularizers.l2(0.002),\n",
        "                 activation=\"relu\"),\n",
        "    layers.Dense(16,\n",
        "                 kernel_regularizer=regularizers.l2(0.002),\n",
        "                 activation=\"relu\"),\n",
        "    layers.Dense(1, activation=\"sigmoid\")\n",
        "])\n",
        "model.compile(optimizer=\"rmsprop\",\n",
        "              loss=\"binary_crossentropy\",\n",
        "              metrics=[\"accuracy\"])\n",
        "history_l2_reg = model.fit(\n",
        "    train_data, train_labels,\n",
        "    epochs=20, batch_size=512, validation_split=0.4)"
      ]
    },
    {
      "cell_type": "markdown",
      "metadata": {
        "id": "_uPAhxoDwzdh"
      },
      "source": [
        "**Different weight regularizers available in Keras**"
      ]
    },
    {
      "cell_type": "code",
      "execution_count": null,
      "metadata": {
        "id": "IdB_nT8zwzdi"
      },
      "outputs": [],
      "source": [
        "from tensorflow.keras import regularizers\n",
        "regularizers.l1(0.001)\n",
        "regularizers.l1_l2(l1=0.001, l2=0.001)"
      ]
    },
    {
      "cell_type": "markdown",
      "metadata": {
        "id": "ZCulBfVmwzdj"
      },
      "source": [
        "#### Adding dropout"
      ]
    },
    {
      "cell_type": "markdown",
      "metadata": {
        "id": "xzpkB0O0wzdj"
      },
      "source": []
    },
    {
      "cell_type": "code",
      "execution_count": 52,
      "metadata": {
        "colab": {
          "base_uri": "https://localhost:8080/"
        },
        "id": "2SHFbVg0wzdk",
        "outputId": "17dfa9fb-2866-4787-ed53-a1400e396ba8"
      },
      "outputs": [
        {
          "output_type": "stream",
          "name": "stdout",
          "text": [
            "Epoch 1/20\n",
            "94/94 [==============================] - 2s 7ms/step - loss: 1.9720 - accuracy: 0.2764 - val_loss: 1.4402 - val_accuracy: 0.6883\n",
            "Epoch 2/20\n",
            "94/94 [==============================] - 0s 5ms/step - loss: 1.6478 - accuracy: 0.3958 - val_loss: 1.0601 - val_accuracy: 0.7774\n",
            "Epoch 3/20\n",
            "94/94 [==============================] - 0s 5ms/step - loss: 1.4707 - accuracy: 0.4651 - val_loss: 0.8953 - val_accuracy: 0.8128\n",
            "Epoch 4/20\n",
            "94/94 [==============================] - 0s 5ms/step - loss: 1.3832 - accuracy: 0.4961 - val_loss: 0.8016 - val_accuracy: 0.8367\n",
            "Epoch 5/20\n",
            "94/94 [==============================] - 0s 5ms/step - loss: 1.3282 - accuracy: 0.5150 - val_loss: 0.7326 - val_accuracy: 0.8392\n",
            "Epoch 6/20\n",
            "94/94 [==============================] - 0s 5ms/step - loss: 1.2808 - accuracy: 0.5399 - val_loss: 0.6786 - val_accuracy: 0.8538\n",
            "Epoch 7/20\n",
            "94/94 [==============================] - 0s 5ms/step - loss: 1.2522 - accuracy: 0.5498 - val_loss: 0.6694 - val_accuracy: 0.8680\n",
            "Epoch 8/20\n",
            "94/94 [==============================] - 0s 5ms/step - loss: 1.2225 - accuracy: 0.5619 - val_loss: 0.6467 - val_accuracy: 0.8684\n",
            "Epoch 9/20\n",
            "94/94 [==============================] - 0s 5ms/step - loss: 1.1990 - accuracy: 0.5722 - val_loss: 0.6182 - val_accuracy: 0.8817\n",
            "Epoch 10/20\n",
            "94/94 [==============================] - 0s 5ms/step - loss: 1.1899 - accuracy: 0.5776 - val_loss: 0.6163 - val_accuracy: 0.8815\n",
            "Epoch 11/20\n",
            "94/94 [==============================] - 0s 5ms/step - loss: 1.1756 - accuracy: 0.5796 - val_loss: 0.5894 - val_accuracy: 0.8885\n",
            "Epoch 12/20\n",
            "94/94 [==============================] - 0s 5ms/step - loss: 1.1674 - accuracy: 0.5836 - val_loss: 0.5845 - val_accuracy: 0.8925\n",
            "Epoch 13/20\n",
            "94/94 [==============================] - 0s 5ms/step - loss: 1.1550 - accuracy: 0.5887 - val_loss: 0.5903 - val_accuracy: 0.8913\n",
            "Epoch 14/20\n",
            "94/94 [==============================] - 0s 5ms/step - loss: 1.1440 - accuracy: 0.5903 - val_loss: 0.5619 - val_accuracy: 0.8953\n",
            "Epoch 15/20\n",
            "94/94 [==============================] - 0s 5ms/step - loss: 1.1393 - accuracy: 0.5926 - val_loss: 0.5632 - val_accuracy: 0.8899\n",
            "Epoch 16/20\n",
            "94/94 [==============================] - 1s 7ms/step - loss: 1.1179 - accuracy: 0.6041 - val_loss: 0.5447 - val_accuracy: 0.8950\n",
            "Epoch 17/20\n",
            "94/94 [==============================] - 1s 7ms/step - loss: 1.1198 - accuracy: 0.6004 - val_loss: 0.5325 - val_accuracy: 0.8947\n",
            "Epoch 18/20\n",
            "94/94 [==============================] - 1s 9ms/step - loss: 1.1085 - accuracy: 0.6098 - val_loss: 0.5400 - val_accuracy: 0.8946\n",
            "Epoch 19/20\n",
            "94/94 [==============================] - 1s 7ms/step - loss: 1.1083 - accuracy: 0.6104 - val_loss: 0.5204 - val_accuracy: 0.8961\n",
            "Epoch 20/20\n",
            "94/94 [==============================] - 1s 7ms/step - loss: 1.0914 - accuracy: 0.6142 - val_loss: 0.5286 - val_accuracy: 0.8952\n"
          ]
        }
      ],
      "source": [
        "from tensorflow.keras.datasets import mnist\n",
        "import numpy as np\n",
        "\n",
        "model = keras.Sequential([\n",
        "    layers.Dense(16, activation=\"relu\"),\n",
        "    layers.Dropout(0.5),\n",
        "    layers.Dense(16, activation=\"relu\"),\n",
        "    layers.Dropout(0.5),\n",
        "    layers.Dense(10, activation=\"softmax\")\n",
        "])\n",
        "\n",
        "model.compile(optimizer=\"rmsprop\",\n",
        "              loss=\"sparse_categorical_crossentropy\",\n",
        "              metrics=[\"accuracy\"])\n",
        "\n",
        "history_dropout = model.fit(\n",
        "    train_images, train_labels,\n",
        "    epochs=20, batch_size=512, validation_split=0.2)"
      ]
    },
    {
      "cell_type": "code",
      "source": [
        "from tensorflow.keras.datasets import mnist\n",
        "import numpy as np\n",
        "\n",
        "model = keras.Sequential([\n",
        "    layers.Dense(16, activation=\"relu\"),\n",
        "    layers.Dense(16, activation=\"relu\"),\n",
        "    layers.Dense(10, activation=\"softmax\")\n",
        "])\n",
        "\n",
        "model.compile(optimizer=\"rmsprop\",\n",
        "              loss=\"sparse_categorical_crossentropy\",\n",
        "              metrics=[\"accuracy\"])\n",
        "\n",
        "history_origin = model.fit(\n",
        "    train_images, train_labels,\n",
        "    epochs=20, batch_size=512, validation_split=0.2)"
      ],
      "metadata": {
        "colab": {
          "base_uri": "https://localhost:8080/"
        },
        "id": "EAKUl90w9h_c",
        "outputId": "39989306-7962-4362-f62a-2ef0f95b1088"
      },
      "execution_count": 53,
      "outputs": [
        {
          "output_type": "stream",
          "name": "stdout",
          "text": [
            "Epoch 1/20\n",
            "94/94 [==============================] - 2s 7ms/step - loss: 1.3277 - accuracy: 0.6320 - val_loss: 0.7292 - val_accuracy: 0.7932\n",
            "Epoch 2/20\n",
            "94/94 [==============================] - 0s 5ms/step - loss: 0.5528 - accuracy: 0.8478 - val_loss: 0.4074 - val_accuracy: 0.8857\n",
            "Epoch 3/20\n",
            "94/94 [==============================] - 0s 4ms/step - loss: 0.3879 - accuracy: 0.8912 - val_loss: 0.3338 - val_accuracy: 0.9059\n",
            "Epoch 4/20\n",
            "94/94 [==============================] - 1s 5ms/step - loss: 0.3281 - accuracy: 0.9072 - val_loss: 0.2953 - val_accuracy: 0.9168\n",
            "Epoch 5/20\n",
            "94/94 [==============================] - 0s 4ms/step - loss: 0.2949 - accuracy: 0.9157 - val_loss: 0.2718 - val_accuracy: 0.9228\n",
            "Epoch 6/20\n",
            "94/94 [==============================] - 1s 6ms/step - loss: 0.2728 - accuracy: 0.9218 - val_loss: 0.2547 - val_accuracy: 0.9259\n",
            "Epoch 7/20\n",
            "94/94 [==============================] - 1s 7ms/step - loss: 0.2576 - accuracy: 0.9262 - val_loss: 0.2479 - val_accuracy: 0.9287\n",
            "Epoch 8/20\n",
            "94/94 [==============================] - 1s 7ms/step - loss: 0.2450 - accuracy: 0.9299 - val_loss: 0.2360 - val_accuracy: 0.9308\n",
            "Epoch 9/20\n",
            "94/94 [==============================] - 1s 6ms/step - loss: 0.2349 - accuracy: 0.9323 - val_loss: 0.2265 - val_accuracy: 0.9356\n",
            "Epoch 10/20\n",
            "94/94 [==============================] - 0s 5ms/step - loss: 0.2260 - accuracy: 0.9345 - val_loss: 0.2225 - val_accuracy: 0.9372\n",
            "Epoch 11/20\n",
            "94/94 [==============================] - 0s 5ms/step - loss: 0.2180 - accuracy: 0.9373 - val_loss: 0.2177 - val_accuracy: 0.9372\n",
            "Epoch 12/20\n",
            "94/94 [==============================] - 0s 5ms/step - loss: 0.2099 - accuracy: 0.9394 - val_loss: 0.2114 - val_accuracy: 0.9383\n",
            "Epoch 13/20\n",
            "94/94 [==============================] - 1s 6ms/step - loss: 0.2030 - accuracy: 0.9417 - val_loss: 0.2064 - val_accuracy: 0.9414\n",
            "Epoch 14/20\n",
            "94/94 [==============================] - 1s 10ms/step - loss: 0.1959 - accuracy: 0.9437 - val_loss: 0.2004 - val_accuracy: 0.9440\n",
            "Epoch 15/20\n",
            "94/94 [==============================] - 1s 8ms/step - loss: 0.1896 - accuracy: 0.9454 - val_loss: 0.2056 - val_accuracy: 0.9404\n",
            "Epoch 16/20\n",
            "94/94 [==============================] - 0s 4ms/step - loss: 0.1838 - accuracy: 0.9470 - val_loss: 0.1946 - val_accuracy: 0.9439\n",
            "Epoch 17/20\n",
            "94/94 [==============================] - 1s 8ms/step - loss: 0.1782 - accuracy: 0.9488 - val_loss: 0.1860 - val_accuracy: 0.9471\n",
            "Epoch 18/20\n",
            "94/94 [==============================] - 1s 6ms/step - loss: 0.1732 - accuracy: 0.9493 - val_loss: 0.1880 - val_accuracy: 0.9475\n",
            "Epoch 19/20\n",
            "94/94 [==============================] - 0s 4ms/step - loss: 0.1685 - accuracy: 0.9514 - val_loss: 0.1806 - val_accuracy: 0.9481\n",
            "Epoch 20/20\n",
            "94/94 [==============================] - 0s 5ms/step - loss: 0.1644 - accuracy: 0.9526 - val_loss: 0.1795 - val_accuracy: 0.9474\n"
          ]
        }
      ]
    },
    {
      "cell_type": "code",
      "source": [
        "import matplotlib.pyplot as plt\n",
        "val_loss_origin  = history_origin.history[\"val_loss\"]\n",
        "val_loss_dropout = history_dropout.history[\"val_loss\"]\n",
        "epochs = range(1, 21)\n",
        "plt.plot(epochs, val_loss_origin, \"go\",\n",
        "         label=\"Validation loss with origin\")\n",
        "plt.plot(epochs, val_loss_dropout, \"bo\",\n",
        "         label=\"Validation loss with dropout\")\n",
        "plt.title(\"Effect of dropout on validation loss\")\n",
        "plt.xlabel(\"Epochs\")\n",
        "plt.ylabel(\"Val_loss\")\n",
        "plt.legend()"
      ],
      "metadata": {
        "colab": {
          "base_uri": "https://localhost:8080/",
          "height": 491
        },
        "id": "XxLG8fbT8oVt",
        "outputId": "2ab9795c-e6ab-40cc-ff29-6720a6b7d627"
      },
      "execution_count": 62,
      "outputs": [
        {
          "output_type": "execute_result",
          "data": {
            "text/plain": [
              "<matplotlib.legend.Legend at 0x7f64b86c5cd0>"
            ]
          },
          "metadata": {},
          "execution_count": 62
        },
        {
          "output_type": "display_data",
          "data": {
            "text/plain": [
              "<Figure size 640x480 with 1 Axes>"
            ],
            "image/png": "[encoded data removed]"
          },
          "metadata": {}
        }
      ]
    },
    {
      "cell_type": "markdown",
      "metadata": {
        "id": "0RdMrG1mwzdk"
      },
      "source": [
        "## Summary"
      ]
    }
  ],
  "metadata": {
    "colab": {
      "name": "chapter05_fundamentals-of-ml.i",
      "provenance": [],
      "toc_visible": true
    },
    "kernelspec": {
      "display_name": "Python 3",
      "language": "python",
      "name": "python3"
    },
    "language_info": {
      "codemirror_mode": {
        "name": "ipython",
        "version": 3
      },
      "file_extension": ".py",
      "mimetype": "text/x-python",
      "name": "python",
      "nbconvert_exporter": "python",
      "pygments_lexer": "ipython3",
      "version": "3.7.0"
    },
    "accelerator": "GPU",
    "gpuClass": "standard"
  },
  "nbformat": 4,
  "nbformat_minor": 0
}